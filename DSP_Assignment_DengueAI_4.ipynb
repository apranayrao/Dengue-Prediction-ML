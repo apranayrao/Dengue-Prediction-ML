{
  "nbformat": 4,
  "nbformat_minor": 0,
  "metadata": {
    "kernelspec": {
      "display_name": "Python 2",
      "language": "python",
      "name": "python2"
    },
    "language_info": {
      "codemirror_mode": {
        "name": "ipython",
        "version": 2
      },
      "file_extension": ".py",
      "mimetype": "text/x-python",
      "name": "python",
      "nbconvert_exporter": "python",
      "pygments_lexer": "ipython2",
      "version": "2.7.16"
    },
    "colab": {
      "name": "DSP_Assignment_DengueAI_4.ipynb",
      "provenance": [],
      "collapsed_sections": []
    }
  },
  "cells": [
    {
      "cell_type": "markdown",
      "metadata": {
        "id": "wnsmsyQpJa2h",
        "colab_type": "text"
      },
      "source": [
        "# Assignment 4 - Data Set Description\n",
        "The questions below relate to the data files associated with the contest with the title 'DengAI: Predicting Disease Spread' published at the following website. \n",
        "https://www.drivendata.org/competitions/44/dengai-predicting-disease-spread/data/\n",
        "\n",
        "Anyone can join the contest and showcase your skills. To know about contest submissions visit the following webpage\n",
        "https://www.drivendata.org/competitions/44/dengai-predicting-disease-spread/submissions/\n",
        "You can showcase your Machine Learning skills by ranking top in the contest. \n",
        "\n",
        "Problem description:\n",
        "Your goal is to predict the total_cases label for each (city, year, weekofyear) in the test set. There are two cities, San Juan and Iquitos, with test data for each city spanning 5 and 3 years respectively. You will make one submission that contains predictions for both cities. The data for each city have been concatenated along with a city column indicating the source: sj for San Juan and iq for Iquitos. The test set is a pure future hold-out, meaning the test data are sequential and non-overlapping with any of the training data. Throughout, missing values have been filled as NaNs.\n",
        "\n",
        "Assignment:\n",
        "The goal is achieved through three subsequent Assignments 1, 2, 3 and 4, all using the same dataset\n"
      ]
    },
    {
      "cell_type": "markdown",
      "metadata": {
        "id": "Zz7nPVFvJa2k",
        "colab_type": "text"
      },
      "source": [
        "The features in this dataset\n",
        "You are provided the following set of information on a (year, weekofyear) timescale:\n",
        "\n",
        "(Where appropriate, units are provided as a _unit suffix on the feature name.)\n",
        "\n",
        "City and date indicators\n",
        "\n",
        "    city – City abbreviations: sj for San Juan and iq for Iquitos\n",
        "    week_start_date – Date given in yyyy-mm-dd format\n",
        "\n",
        "NOAA's GHCN daily climate data weather station measurements\n",
        "\n",
        "    station_max_temp_c – Maximum temperature\n",
        "    station_min_temp_c – Minimum temperature\n",
        "    station_avg_temp_c – Average temperature\n",
        "    station_precip_mm – Total precipitation\n",
        "    station_diur_temp_rng_c – Diurnal temperature range\n",
        "    \n",
        "PERSIANN satellite precipitation measurements (0.25x0.25 degree scale)\n",
        "\n",
        "    precipitation_amt_mm – Total precipitation\n",
        "\n",
        "NOAA's NCEP Climate Forecast System Reanalysis measurements (0.5x0.5 degree scale)\n",
        "\n",
        "    reanalysis_sat_precip_amt_mm – Total precipitation\n",
        "    reanalysis_dew_point_temp_k – Mean dew point temperature\n",
        "    reanalysis_air_temp_k – Mean air temperature\n",
        "    reanalysis_relative_humidity_percent – Mean relative humidity\n",
        "    reanalysis_specific_humidity_g_per_kg – Mean specific humidity\n",
        "    reanalysis_precip_amt_kg_per_m2 – Total precipitation\n",
        "    reanalysis_max_air_temp_k – Maximum air temperature\n",
        "    reanalysis_min_air_temp_k – Minimum air temperature\n",
        "    reanalysis_avg_temp_k – Average air temperature\n",
        "    reanalysis_tdtr_k – Diurnal temperature range\n",
        "\n",
        "Satellite vegetation - Normalized difference vegetation index (NDVI) - NOAA's CDR Normalized Difference Vegetation Index (0.5x0.5 degree scale) measurements\n",
        "\n",
        "    ndvi_se – Pixel southeast of city centroid\n",
        "    ndvi_sw – Pixel southwest of city centroid\n",
        "    ndvi_ne – Pixel northeast of city centroid\n",
        "    ndvi_nw – Pixel northwest of city centroid"
      ]
    },
    {
      "cell_type": "markdown",
      "metadata": {
        "id": "iGWlazqgJa2m",
        "colab_type": "text"
      },
      "source": [
        "# Assignment 4 - Questions\n",
        "Use the merged data frame from Assignment 1,2  and 3 for this assignment\n",
        "\n",
        "This Assignment focuses on data preprocessing and model building. Continue with the datasets loaded in Assignment 1, 2 and 3 (or reload with same steps and create merged data frame). In this assignment you need to use Neural Network"
      ]
    },
    {
      "cell_type": "markdown",
      "metadata": {
        "id": "jMaATB4pJa2n",
        "colab_type": "text"
      },
      "source": [
        "1. Load the data (both features and label data set as before)\n",
        "2. Preprocess the data - briefly comment if any special preprocessing is adopted to suit Neural Network\n",
        "3. Optional: Build a Neural Network Multi-Layer Perceptron Regressor model (you can use sklearn neural network MLP Regressor)\n",
        "4. Optional: Evaluate the model and compare it with the previous three assignments\n",
        "5. Add a new column called 'above_average' with value 1 or 0. 1 if the total_cases > median of total_cases\n",
        "6. Build a Neural Network MLP Classifier on the 'above_average' column with 80/20 train/test split\n",
        "7. Explain the meaning of Precision, Recall and F1-Score and why these are used to evaluate Classification models (instead of using Accuracy as a metric). Evaluate the classifier using Precision, Recall and F1 score values\n",
        "\n",
        "Submit the .ipynb, and .html (optional submission.csv if you performed MLP regressor)\n"
      ]
    },
    {
      "cell_type": "code",
      "metadata": {
        "id": "T0ih7Z5gJa2p",
        "colab_type": "code",
        "colab": {}
      },
      "source": [
        "#Importing required libraries\n",
        "import numpy as np\n",
        "import matplotlib.pyplot as plt\n",
        "import pandas as pd\n",
        "import seaborn as sns\n",
        "from sklearn.model_selection import train_test_split\n",
        "from sklearn.svm import SVR\n",
        "from sklearn.metrics import mean_squared_error\n",
        "from sklearn.metrics import mean_absolute_error\n",
        "from sklearn.metrics import r2_score"
      ],
      "execution_count": 0,
      "outputs": []
    },
    {
      "cell_type": "code",
      "metadata": {
        "id": "svd4JofRLtHC",
        "colab_type": "code",
        "colab": {}
      },
      "source": [
        "np.random.seed(67354724)"
      ],
      "execution_count": 0,
      "outputs": []
    },
    {
      "cell_type": "code",
      "metadata": {
        "id": "UtV5V6aBMBHE",
        "colab_type": "code",
        "colab": {}
      },
      "source": [
        "df = pd.read_csv('dengue_features_train.csv')"
      ],
      "execution_count": 0,
      "outputs": []
    },
    {
      "cell_type": "code",
      "metadata": {
        "id": "4ccZvU81N24b",
        "colab_type": "code",
        "colab": {
          "base_uri": "https://localhost:8080/",
          "height": 238
        },
        "outputId": "c6ce3c51-a6f5-4b03-f4ef-a6dca5064258"
      },
      "source": [
        "#Renaming columns to abbreviate & changing category\n",
        "df.columns = df.columns.str.replace(\"station\", \"stn\")\n",
        "df.columns = df.columns.str.replace(\"reanalysis\", \"re_an\")\n",
        "df.columns = df.columns.str.replace(\"humidity\", \"hd\")\n",
        "df.columns = df.columns.str.replace(\"precipitation\", \"prec\")\n",
        "print(df.columns)\n",
        "type(df.columns)\n",
        "df.year = df.year.astype('category')\n",
        "df.year.dtype"
      ],
      "execution_count": 108,
      "outputs": [
        {
          "output_type": "stream",
          "text": [
            "Index([u'city', u'year', u'weekofyear', u'week_start_date', u'ndvi_ne',\n",
            "       u'ndvi_nw', u'ndvi_se', u'ndvi_sw', u'prec_amt_mm', u're_an_air_temp_k',\n",
            "       u're_an_avg_temp_k', u're_an_dew_point_temp_k', u're_an_max_air_temp_k',\n",
            "       u're_an_min_air_temp_k', u're_an_precip_amt_kg_per_m2',\n",
            "       u're_an_relative_hd_percent', u're_an_sat_precip_amt_mm',\n",
            "       u're_an_specific_hd_g_per_kg', u're_an_tdtr_k', u'stn_avg_temp_c',\n",
            "       u'stn_diur_temp_rng_c', u'stn_max_temp_c', u'stn_min_temp_c',\n",
            "       u'stn_precip_mm'],\n",
            "      dtype='object')\n"
          ],
          "name": "stdout"
        },
        {
          "output_type": "execute_result",
          "data": {
            "text/plain": [
              "CategoricalDtype(categories=[1990, 1991, 1992, 1993, 1994, 1995, 1996, 1997, 1998, 1999,\n",
              "                  2000, 2001, 2002, 2003, 2004, 2005, 2006, 2007, 2008, 2009,\n",
              "                  2010],\n",
              "                 ordered=False)"
            ]
          },
          "metadata": {
            "tags": []
          },
          "execution_count": 108
        }
      ]
    },
    {
      "cell_type": "code",
      "metadata": {
        "id": "fGxRu1E4N9pj",
        "colab_type": "code",
        "colab": {}
      },
      "source": [
        "df_label = pd.read_csv('dengue_labels_train.csv')"
      ],
      "execution_count": 0,
      "outputs": []
    },
    {
      "cell_type": "code",
      "metadata": {
        "id": "IhEzGJdZOFc_",
        "colab_type": "code",
        "colab": {}
      },
      "source": [
        "df_merge = pd.merge(df,df_label,how='inner',on=['city','year','weekofyear'])"
      ],
      "execution_count": 0,
      "outputs": []
    },
    {
      "cell_type": "markdown",
      "metadata": {
        "id": "iOLDjNR_OQxf",
        "colab_type": "text"
      },
      "source": [
        "Dropping reanalysis_sat_precip_amt_mm – Total precipitation since it is a repeating feature in the model"
      ]
    },
    {
      "cell_type": "code",
      "metadata": {
        "id": "ERpqYN8cOHuC",
        "colab_type": "code",
        "colab": {}
      },
      "source": [
        "df_merge = df_merge.drop(['re_an_sat_precip_amt_mm'], axis=1)"
      ],
      "execution_count": 0,
      "outputs": []
    },
    {
      "cell_type": "markdown",
      "metadata": {
        "id": "c_BRcBEBMfD-",
        "colab_type": "text"
      },
      "source": [
        "Preprocess the data - briefly comment if any special preprocessing is adopted to suit Neural Network"
      ]
    },
    {
      "cell_type": "code",
      "metadata": {
        "id": "-13o5uZbOTBE",
        "colab_type": "code",
        "colab": {}
      },
      "source": [
        "df_merge.loc[df_merge.ndvi_ne <= 0.25, 'ndvi_ne'] = 0\n",
        "df_merge.loc[df_merge.ndvi_ne > 0.25, 'ndvi_ne'] = 1"
      ],
      "execution_count": 0,
      "outputs": []
    },
    {
      "cell_type": "code",
      "metadata": {
        "id": "UAprbRoTM75z",
        "colab_type": "code",
        "colab": {}
      },
      "source": [
        "df_merge.loc[df_merge.ndvi_nw <= 0.25, 'ndvi_nw'] = 0\n",
        "df_merge.loc[df_merge.ndvi_nw > 0.25, 'ndvi_nw'] = 1"
      ],
      "execution_count": 0,
      "outputs": []
    },
    {
      "cell_type": "code",
      "metadata": {
        "id": "oGLOkcayM_yS",
        "colab_type": "code",
        "colab": {}
      },
      "source": [
        "df_merge.loc[df_merge.ndvi_se <= 0.25, 'ndvi_se'] = 0\n",
        "df_merge.loc[df_merge.ndvi_se > 0.25, 'ndvi_se'] = 1"
      ],
      "execution_count": 0,
      "outputs": []
    },
    {
      "cell_type": "code",
      "metadata": {
        "id": "jHXpekHxNCPw",
        "colab_type": "code",
        "colab": {}
      },
      "source": [
        "df_merge.loc[df_merge.ndvi_sw <= 0.25, 'ndvi_sw'] = 0\n",
        "df_merge.loc[df_merge.ndvi_sw > 0.25, 'ndvi_sw'] = 1"
      ],
      "execution_count": 0,
      "outputs": []
    },
    {
      "cell_type": "code",
      "metadata": {
        "id": "2Por9vBpNEF0",
        "colab_type": "code",
        "colab": {}
      },
      "source": [
        "#Converting year to category\n",
        "df_merge.year = df_merge.year.astype('object')"
      ],
      "execution_count": 0,
      "outputs": []
    },
    {
      "cell_type": "code",
      "metadata": {
        "id": "jbuhjhalNG-j",
        "colab_type": "code",
        "colab": {}
      },
      "source": [
        "# Categorical boolean mask\n",
        "categorical_feature_mask = df_merge.dtypes==object\n",
        "# filter categorical columns using mask and turn it into a list\n",
        "categorical_cols = df_merge.columns[categorical_feature_mask].tolist()"
      ],
      "execution_count": 0,
      "outputs": []
    },
    {
      "cell_type": "code",
      "metadata": {
        "id": "YwbrWTukNMbw",
        "colab_type": "code",
        "colab": {}
      },
      "source": [
        "# import labelencoder\n",
        "from sklearn.preprocessing import LabelEncoder\n",
        "# instantiate labelencoder object\n",
        "le = LabelEncoder()"
      ],
      "execution_count": 0,
      "outputs": []
    },
    {
      "cell_type": "code",
      "metadata": {
        "id": "iMEOwWsMNQx_",
        "colab_type": "code",
        "colab": {}
      },
      "source": [
        "# apply le on categorical feature columns\n",
        "df_merge[categorical_cols] = df_merge[categorical_cols].apply(lambda col: le.fit_transform(col))"
      ],
      "execution_count": 0,
      "outputs": []
    },
    {
      "cell_type": "code",
      "metadata": {
        "id": "vKWQdcfmNTLt",
        "colab_type": "code",
        "colab": {}
      },
      "source": [
        "#Taking target variable in a separate df, so as to not standardize it\n",
        "df_total_cases = df_merge['total_cases']"
      ],
      "execution_count": 0,
      "outputs": []
    },
    {
      "cell_type": "code",
      "metadata": {
        "id": "4R7yJpPbNX0I",
        "colab_type": "code",
        "colab": {}
      },
      "source": [
        "#Dropping target variable\n",
        "df_merge = df_merge.drop(['total_cases'],axis=1)"
      ],
      "execution_count": 0,
      "outputs": []
    },
    {
      "cell_type": "code",
      "metadata": {
        "id": "cdLmNIz3NaW-",
        "colab_type": "code",
        "colab": {}
      },
      "source": [
        "#Standardizing Numerical features\n",
        "from sklearn.preprocessing import StandardScaler\n",
        "scaler = StandardScaler()"
      ],
      "execution_count": 0,
      "outputs": []
    },
    {
      "cell_type": "code",
      "metadata": {
        "id": "FkX4wq-GNc26",
        "colab_type": "code",
        "colab": {}
      },
      "source": [
        "df_merge = scaler.fit_transform(df_merge)"
      ],
      "execution_count": 0,
      "outputs": []
    },
    {
      "cell_type": "code",
      "metadata": {
        "id": "m50igpGoNfZo",
        "colab_type": "code",
        "colab": {}
      },
      "source": [
        "df_merge = pd.DataFrame(df_merge)"
      ],
      "execution_count": 0,
      "outputs": []
    },
    {
      "cell_type": "code",
      "metadata": {
        "id": "QjD09ePONk8K",
        "colab_type": "code",
        "colab": {
          "base_uri": "https://localhost:8080/",
          "height": 34
        },
        "outputId": "14465dae-554b-4802-aadb-6a5e26543c8f"
      },
      "source": [
        "pip install missingpy"
      ],
      "execution_count": 125,
      "outputs": [
        {
          "output_type": "stream",
          "text": [
            "Requirement already satisfied: missingpy in /usr/local/lib/python2.7/dist-packages (0.2.0)\n"
          ],
          "name": "stdout"
        }
      ]
    },
    {
      "cell_type": "markdown",
      "metadata": {
        "id": "9yIs6jSVNu0I",
        "colab_type": "text"
      },
      "source": [
        "Imputing missing values with KNN"
      ]
    },
    {
      "cell_type": "code",
      "metadata": {
        "id": "2A8XUI5iNq9g",
        "colab_type": "code",
        "colab": {}
      },
      "source": [
        "#For imputing missing values\n",
        "from missingpy import KNNImputer\n",
        "imputer = KNNImputer()"
      ],
      "execution_count": 0,
      "outputs": []
    },
    {
      "cell_type": "code",
      "metadata": {
        "id": "4DRZUfvVN0SJ",
        "colab_type": "code",
        "colab": {}
      },
      "source": [
        "df_imp = imputer.fit_transform(df_merge)"
      ],
      "execution_count": 0,
      "outputs": []
    },
    {
      "cell_type": "code",
      "metadata": {
        "id": "-3xVOYJmN2P6",
        "colab_type": "code",
        "colab": {}
      },
      "source": [
        "df_merge = pd.DataFrame(df_imp)"
      ],
      "execution_count": 0,
      "outputs": []
    },
    {
      "cell_type": "code",
      "metadata": {
        "id": "MdyEIQpyN4y9",
        "colab_type": "code",
        "colab": {}
      },
      "source": [
        "df_merge.columns = ['city',\n",
        " 'year',\n",
        " 'weekofyear',\n",
        " 'week_start_date',\n",
        " 'ndvi_ne',\n",
        " 'ndvi_nw',\n",
        " 'ndvi_se',\n",
        " 'ndvi_sw',\n",
        " 'prec_amt_mm',\n",
        " 're_an_air_temp_k',\n",
        " 're_an_avg_temp_k',\n",
        " 're_an_dew_point_temp_k',\n",
        " 're_an_max_air_temp_k',\n",
        " 're_an_min_air_temp_k',\n",
        " 're_an_precip_amt_kg_per_m2',\n",
        " 're_an_relative_hd_percent',\n",
        " 're_an_specific_hd_g_per_kg',\n",
        " 're_an_tdtr_k',\n",
        " 'stn_avg_temp_c',\n",
        " 'stn_diur_temp_rng_c',\n",
        " 'stn_max_temp_c',\n",
        " 'stn_min_temp_c',\n",
        " 'stn_precip_mm']"
      ],
      "execution_count": 0,
      "outputs": []
    },
    {
      "cell_type": "code",
      "metadata": {
        "id": "WxtaoXMQN9Bk",
        "colab_type": "code",
        "colab": {
          "base_uri": "https://localhost:8080/",
          "height": 34
        },
        "outputId": "96321a87-2ad6-41d4-c8ed-c356fad31c0b"
      },
      "source": [
        "#Count of missing values\n",
        "df_merge.isna().sum().sum()"
      ],
      "execution_count": 130,
      "outputs": [
        {
          "output_type": "execute_result",
          "data": {
            "text/plain": [
              "0"
            ]
          },
          "metadata": {
            "tags": []
          },
          "execution_count": 130
        }
      ]
    },
    {
      "cell_type": "markdown",
      "metadata": {
        "id": "F1RwWDr9QTqE",
        "colab_type": "text"
      },
      "source": [
        "Optional: Build a Neural Network Multi-Layer Perceptron Regressor model (you can use sklearn neural network MLP Regressor)"
      ]
    },
    {
      "cell_type": "code",
      "metadata": {
        "id": "VNjzmw3bN_Wk",
        "colab_type": "code",
        "colab": {}
      },
      "source": [
        "from sklearn.neural_network import MLPRegressor\n",
        "mlp_reg = MLPRegressor(hidden_layer_sizes=(100,50), activation='relu', solver='adam', alpha=0.0001, batch_size='auto', learning_rate='constant', learning_rate_init=0.001, power_t=0.5, max_iter=200, shuffle=True, random_state=None, tol=0.0001, verbose=False, warm_start=False, momentum=0.9, nesterovs_momentum=True, early_stopping=False, validation_fraction=0.1, beta_1=0.9, beta_2=0.999, epsilon=1e-08, n_iter_no_change=10)"
      ],
      "execution_count": 0,
      "outputs": []
    },
    {
      "cell_type": "code",
      "metadata": {
        "id": "jKApNIfpQhU0",
        "colab_type": "code",
        "colab": {}
      },
      "source": [
        "#Taking target variable for splitting\n",
        "bins = np.linspace(0, 40, 50)\n",
        "\n",
        "total_cases_bin = np.digitize(df_total_cases, bins)"
      ],
      "execution_count": 0,
      "outputs": []
    },
    {
      "cell_type": "code",
      "metadata": {
        "id": "iWYisDofRI_6",
        "colab_type": "code",
        "colab": {}
      },
      "source": [
        "#Stratified split based on total cases\n",
        "X_train, X_test, y_train, y_test = train_test_split(df_merge,total_cases_bin,test_size=0.20,stratify=total_cases_bin,shuffle=True)"
      ],
      "execution_count": 0,
      "outputs": []
    },
    {
      "cell_type": "code",
      "metadata": {
        "id": "y_oSGCGURMXo",
        "colab_type": "code",
        "colab": {
          "base_uri": "https://localhost:8080/",
          "height": 136
        },
        "outputId": "951141ea-c649-4721-88e0-056360622584"
      },
      "source": [
        "#Fitting the MLP Reg model \n",
        "mlp_reg.fit(X_train,y_train)"
      ],
      "execution_count": 179,
      "outputs": [
        {
          "output_type": "execute_result",
          "data": {
            "text/plain": [
              "MLPRegressor(activation='relu', alpha=0.0001, batch_size='auto', beta_1=0.9,\n",
              "       beta_2=0.999, early_stopping=False, epsilon=1e-08,\n",
              "       hidden_layer_sizes=(100, 50), learning_rate='constant',\n",
              "       learning_rate_init=0.001, max_iter=200, momentum=0.9,\n",
              "       n_iter_no_change=10, nesterovs_momentum=True, power_t=0.5,\n",
              "       random_state=None, shuffle=True, solver='adam', tol=0.0001,\n",
              "       validation_fraction=0.1, verbose=False, warm_start=False)"
            ]
          },
          "metadata": {
            "tags": []
          },
          "execution_count": 179
        }
      ]
    },
    {
      "cell_type": "code",
      "metadata": {
        "id": "ZDqNd6cqRbuj",
        "colab_type": "code",
        "colab": {}
      },
      "source": [
        "pred = mlp_reg.predict(X_test)"
      ],
      "execution_count": 0,
      "outputs": []
    },
    {
      "cell_type": "code",
      "metadata": {
        "id": "2-MRfwe6RnG1",
        "colab_type": "code",
        "colab": {
          "base_uri": "https://localhost:8080/",
          "height": 51
        },
        "outputId": "b0da086a-71d4-4220-b75e-4bb84b956c88"
      },
      "source": [
        "print(\"MSE:\")\n",
        "print(mean_squared_error(y_test,pred))"
      ],
      "execution_count": 181,
      "outputs": [
        {
          "output_type": "stream",
          "text": [
            "MSE:\n",
            "140.01206575089918\n"
          ],
          "name": "stdout"
        }
      ]
    },
    {
      "cell_type": "code",
      "metadata": {
        "id": "ir8JPh1LRsli",
        "colab_type": "code",
        "colab": {
          "base_uri": "https://localhost:8080/",
          "height": 51
        },
        "outputId": "9859b214-0018-4bdf-e55f-abf83c7de04b"
      },
      "source": [
        "print(\"R squared:\")\n",
        "print(r2_score(y_test,pred))"
      ],
      "execution_count": 182,
      "outputs": [
        {
          "output_type": "stream",
          "text": [
            "R squared:\n",
            "0.5195151270293776\n"
          ],
          "name": "stdout"
        }
      ]
    },
    {
      "cell_type": "code",
      "metadata": {
        "id": "Dr4KNPLERvbn",
        "colab_type": "code",
        "colab": {
          "base_uri": "https://localhost:8080/",
          "height": 51
        },
        "outputId": "a87d9b14-39e1-4418-f448-bc84773c821d"
      },
      "source": [
        "print(\"MAE:\")\n",
        "print(mean_absolute_error(y_test,pred))"
      ],
      "execution_count": 183,
      "outputs": [
        {
          "output_type": "stream",
          "text": [
            "MAE:\n",
            "9.194467044305112\n"
          ],
          "name": "stdout"
        }
      ]
    },
    {
      "cell_type": "markdown",
      "metadata": {
        "id": "SBhpXD6GUixl",
        "colab_type": "text"
      },
      "source": [
        "Doing a Grid Search CV to find best hyperparameters."
      ]
    },
    {
      "cell_type": "code",
      "metadata": {
        "id": "JIDfnbviU6fS",
        "colab_type": "code",
        "colab": {}
      },
      "source": [
        "from sklearn.model_selection import GridSearchCV"
      ],
      "execution_count": 0,
      "outputs": []
    },
    {
      "cell_type": "code",
      "metadata": {
        "id": "OjrvewJWRxsy",
        "colab_type": "code",
        "colab": {
          "base_uri": "https://localhost:8080/",
          "height": 1000
        },
        "outputId": "3ab7e482-0a77-416c-b0f5-a13964577553"
      },
      "source": [
        "parameters = {\"hidden_layer_sizes\": [(150),(150,50),(100,50),(200)], \"activation\": [\"identity\", \"logistic\", \"tanh\", \"relu\"], \"solver\": [\"lbfgs\", \"sgd\", \"adam\"], \"alpha\": [0.00005,0.0005]}\n",
        "grid = GridSearchCV(MLPRegressor(), parameters, refit = True, verbose = 3)\n",
        "grid.fit(X_train, y_train)\n",
        "print(grid)"
      ],
      "execution_count": 191,
      "outputs": [
        {
          "output_type": "stream",
          "text": [
            "Fitting 3 folds for each of 96 candidates, totalling 288 fits\n",
            "[CV] alpha=5e-05, activation=identity, solver=lbfgs, hidden_layer_sizes=150 \n"
          ],
          "name": "stdout"
        },
        {
          "output_type": "stream",
          "text": [
            "[Parallel(n_jobs=1)]: Using backend SequentialBackend with 1 concurrent workers.\n"
          ],
          "name": "stderr"
        },
        {
          "output_type": "stream",
          "text": [
            "[CV]  alpha=5e-05, activation=identity, solver=lbfgs, hidden_layer_sizes=150, score=0.374073735448, total=   0.5s\n",
            "[CV] alpha=5e-05, activation=identity, solver=lbfgs, hidden_layer_sizes=150 \n"
          ],
          "name": "stdout"
        },
        {
          "output_type": "stream",
          "text": [
            "[Parallel(n_jobs=1)]: Done   1 out of   1 | elapsed:    0.5s remaining:    0.0s\n"
          ],
          "name": "stderr"
        },
        {
          "output_type": "stream",
          "text": [
            "[CV]  alpha=5e-05, activation=identity, solver=lbfgs, hidden_layer_sizes=150, score=0.39566595699, total=   0.5s\n",
            "[CV] alpha=5e-05, activation=identity, solver=lbfgs, hidden_layer_sizes=150 \n"
          ],
          "name": "stdout"
        },
        {
          "output_type": "stream",
          "text": [
            "[Parallel(n_jobs=1)]: Done   2 out of   2 | elapsed:    1.0s remaining:    0.0s\n"
          ],
          "name": "stderr"
        },
        {
          "output_type": "stream",
          "text": [
            "[CV]  alpha=5e-05, activation=identity, solver=lbfgs, hidden_layer_sizes=150, score=0.352677768312, total=   0.5s\n",
            "[CV] alpha=5e-05, activation=identity, solver=sgd, hidden_layer_sizes=150 \n",
            "[CV]  alpha=5e-05, activation=identity, solver=sgd, hidden_layer_sizes=150, score=0.361507374121, total=   0.2s\n",
            "[CV] alpha=5e-05, activation=identity, solver=sgd, hidden_layer_sizes=150 \n",
            "[CV]  alpha=5e-05, activation=identity, solver=sgd, hidden_layer_sizes=150, score=0.380688040288, total=   0.2s\n",
            "[CV] alpha=5e-05, activation=identity, solver=sgd, hidden_layer_sizes=150 \n",
            "[CV]  alpha=5e-05, activation=identity, solver=sgd, hidden_layer_sizes=150, score=0.348195730517, total=   0.2s\n",
            "[CV] alpha=5e-05, activation=identity, solver=adam, hidden_layer_sizes=150 \n",
            "[CV]  alpha=5e-05, activation=identity, solver=adam, hidden_layer_sizes=150, score=0.362965170696, total=   0.6s\n",
            "[CV] alpha=5e-05, activation=identity, solver=adam, hidden_layer_sizes=150 \n",
            "[CV]  alpha=5e-05, activation=identity, solver=adam, hidden_layer_sizes=150, score=0.385121824993, total=   0.6s\n",
            "[CV] alpha=5e-05, activation=identity, solver=adam, hidden_layer_sizes=150 \n",
            "[CV]  alpha=5e-05, activation=identity, solver=adam, hidden_layer_sizes=150, score=0.349368047709, total=   0.6s\n",
            "[CV] alpha=5e-05, activation=identity, solver=lbfgs, hidden_layer_sizes=(150, 50) \n",
            "[CV]  alpha=5e-05, activation=identity, solver=lbfgs, hidden_layer_sizes=(150, 50), score=0.374546144389, total=   1.0s\n",
            "[CV] alpha=5e-05, activation=identity, solver=lbfgs, hidden_layer_sizes=(150, 50) \n",
            "[CV]  alpha=5e-05, activation=identity, solver=lbfgs, hidden_layer_sizes=(150, 50), score=0.39558103124, total=   1.0s\n",
            "[CV] alpha=5e-05, activation=identity, solver=lbfgs, hidden_layer_sizes=(150, 50) \n",
            "[CV]  alpha=5e-05, activation=identity, solver=lbfgs, hidden_layer_sizes=(150, 50), score=0.352769239063, total=   1.0s\n",
            "[CV] alpha=5e-05, activation=identity, solver=sgd, hidden_layer_sizes=(150, 50) \n",
            "[CV]  alpha=5e-05, activation=identity, solver=sgd, hidden_layer_sizes=(150, 50), score=0.349590669355, total=   0.2s\n",
            "[CV] alpha=5e-05, activation=identity, solver=sgd, hidden_layer_sizes=(150, 50) \n",
            "[CV]  alpha=5e-05, activation=identity, solver=sgd, hidden_layer_sizes=(150, 50), score=0.379230702857, total=   0.2s\n",
            "[CV] alpha=5e-05, activation=identity, solver=sgd, hidden_layer_sizes=(150, 50) \n",
            "[CV]  alpha=5e-05, activation=identity, solver=sgd, hidden_layer_sizes=(150, 50), score=0.340890008416, total=   0.4s\n",
            "[CV] alpha=5e-05, activation=identity, solver=adam, hidden_layer_sizes=(150, 50) \n",
            "[CV]  alpha=5e-05, activation=identity, solver=adam, hidden_layer_sizes=(150, 50), score=0.363463326303, total=   0.4s\n",
            "[CV] alpha=5e-05, activation=identity, solver=adam, hidden_layer_sizes=(150, 50) \n",
            "[CV]  alpha=5e-05, activation=identity, solver=adam, hidden_layer_sizes=(150, 50), score=0.382888771439, total=   0.5s\n",
            "[CV] alpha=5e-05, activation=identity, solver=adam, hidden_layer_sizes=(150, 50) \n",
            "[CV]  alpha=5e-05, activation=identity, solver=adam, hidden_layer_sizes=(150, 50), score=0.346630502535, total=   0.6s\n",
            "[CV] alpha=5e-05, activation=identity, solver=lbfgs, hidden_layer_sizes=(100, 50) \n",
            "[CV]  alpha=5e-05, activation=identity, solver=lbfgs, hidden_layer_sizes=(100, 50), score=0.375050890788, total=   0.8s\n",
            "[CV] alpha=5e-05, activation=identity, solver=lbfgs, hidden_layer_sizes=(100, 50) \n",
            "[CV]  alpha=5e-05, activation=identity, solver=lbfgs, hidden_layer_sizes=(100, 50), score=0.395607938163, total=   0.8s\n",
            "[CV] alpha=5e-05, activation=identity, solver=lbfgs, hidden_layer_sizes=(100, 50) \n",
            "[CV]  alpha=5e-05, activation=identity, solver=lbfgs, hidden_layer_sizes=(100, 50), score=0.353539385002, total=   0.8s\n",
            "[CV] alpha=5e-05, activation=identity, solver=sgd, hidden_layer_sizes=(100, 50) \n",
            "[CV]  alpha=5e-05, activation=identity, solver=sgd, hidden_layer_sizes=(100, 50), score=0.363999141006, total=   0.2s\n",
            "[CV] alpha=5e-05, activation=identity, solver=sgd, hidden_layer_sizes=(100, 50) \n",
            "[CV]  alpha=5e-05, activation=identity, solver=sgd, hidden_layer_sizes=(100, 50), score=0.383965552469, total=   0.2s\n",
            "[CV] alpha=5e-05, activation=identity, solver=sgd, hidden_layer_sizes=(100, 50) \n",
            "[CV]  alpha=5e-05, activation=identity, solver=sgd, hidden_layer_sizes=(100, 50), score=0.346366216603, total=   0.2s\n",
            "[CV] alpha=5e-05, activation=identity, solver=adam, hidden_layer_sizes=(100, 50) \n",
            "[CV]  alpha=5e-05, activation=identity, solver=adam, hidden_layer_sizes=(100, 50), score=0.365405852712, total=   0.5s\n",
            "[CV] alpha=5e-05, activation=identity, solver=adam, hidden_layer_sizes=(100, 50) \n",
            "[CV]  alpha=5e-05, activation=identity, solver=adam, hidden_layer_sizes=(100, 50), score=0.382031470583, total=   0.5s\n",
            "[CV] alpha=5e-05, activation=identity, solver=adam, hidden_layer_sizes=(100, 50) \n",
            "[CV]  alpha=5e-05, activation=identity, solver=adam, hidden_layer_sizes=(100, 50), score=0.345911620691, total=   0.6s\n",
            "[CV] alpha=5e-05, activation=identity, solver=lbfgs, hidden_layer_sizes=200 \n",
            "[CV]  alpha=5e-05, activation=identity, solver=lbfgs, hidden_layer_sizes=200, score=0.374329333111, total=   0.6s\n",
            "[CV] alpha=5e-05, activation=identity, solver=lbfgs, hidden_layer_sizes=200 \n",
            "[CV]  alpha=5e-05, activation=identity, solver=lbfgs, hidden_layer_sizes=200, score=0.39600686418, total=   0.6s\n",
            "[CV] alpha=5e-05, activation=identity, solver=lbfgs, hidden_layer_sizes=200 \n",
            "[CV]  alpha=5e-05, activation=identity, solver=lbfgs, hidden_layer_sizes=200, score=0.352610092743, total=   0.6s\n",
            "[CV] alpha=5e-05, activation=identity, solver=sgd, hidden_layer_sizes=200 \n",
            "[CV]  alpha=5e-05, activation=identity, solver=sgd, hidden_layer_sizes=200, score=0.363569385572, total=   0.2s\n",
            "[CV] alpha=5e-05, activation=identity, solver=sgd, hidden_layer_sizes=200 \n",
            "[CV]  alpha=5e-05, activation=identity, solver=sgd, hidden_layer_sizes=200, score=0.38700948635, total=   0.4s\n",
            "[CV] alpha=5e-05, activation=identity, solver=sgd, hidden_layer_sizes=200 \n",
            "[CV]  alpha=5e-05, activation=identity, solver=sgd, hidden_layer_sizes=200, score=0.349251399777, total=   0.3s\n",
            "[CV] alpha=5e-05, activation=identity, solver=adam, hidden_layer_sizes=200 \n",
            "[CV]  alpha=5e-05, activation=identity, solver=adam, hidden_layer_sizes=200, score=0.362499904281, total=   0.8s\n",
            "[CV] alpha=5e-05, activation=identity, solver=adam, hidden_layer_sizes=200 \n",
            "[CV]  alpha=5e-05, activation=identity, solver=adam, hidden_layer_sizes=200, score=0.383888470695, total=   0.7s\n",
            "[CV] alpha=5e-05, activation=identity, solver=adam, hidden_layer_sizes=200 \n",
            "[CV]  alpha=5e-05, activation=identity, solver=adam, hidden_layer_sizes=200, score=0.347819814315, total=   0.8s\n",
            "[CV] alpha=0.0005, activation=identity, solver=lbfgs, hidden_layer_sizes=150 \n",
            "[CV]  alpha=0.0005, activation=identity, solver=lbfgs, hidden_layer_sizes=150, score=0.373805700945, total=   0.5s\n",
            "[CV] alpha=0.0005, activation=identity, solver=lbfgs, hidden_layer_sizes=150 \n",
            "[CV]  alpha=0.0005, activation=identity, solver=lbfgs, hidden_layer_sizes=150, score=0.396146955981, total=   0.5s\n",
            "[CV] alpha=0.0005, activation=identity, solver=lbfgs, hidden_layer_sizes=150 \n",
            "[CV]  alpha=0.0005, activation=identity, solver=lbfgs, hidden_layer_sizes=150, score=0.352538931486, total=   0.5s\n",
            "[CV] alpha=0.0005, activation=identity, solver=sgd, hidden_layer_sizes=150 \n",
            "[CV]  alpha=0.0005, activation=identity, solver=sgd, hidden_layer_sizes=150, score=0.364687157061, total=   0.3s\n",
            "[CV] alpha=0.0005, activation=identity, solver=sgd, hidden_layer_sizes=150 \n",
            "[CV]  alpha=0.0005, activation=identity, solver=sgd, hidden_layer_sizes=150, score=0.384226079208, total=   0.2s\n",
            "[CV] alpha=0.0005, activation=identity, solver=sgd, hidden_layer_sizes=150 \n",
            "[CV]  alpha=0.0005, activation=identity, solver=sgd, hidden_layer_sizes=150, score=0.346079694515, total=   0.2s\n",
            "[CV] alpha=0.0005, activation=identity, solver=adam, hidden_layer_sizes=150 \n",
            "[CV]  alpha=0.0005, activation=identity, solver=adam, hidden_layer_sizes=150, score=0.36352518736, total=   0.6s\n",
            "[CV] alpha=0.0005, activation=identity, solver=adam, hidden_layer_sizes=150 \n",
            "[CV]  alpha=0.0005, activation=identity, solver=adam, hidden_layer_sizes=150, score=0.38321936458, total=   0.6s\n",
            "[CV] alpha=0.0005, activation=identity, solver=adam, hidden_layer_sizes=150 \n",
            "[CV]  alpha=0.0005, activation=identity, solver=adam, hidden_layer_sizes=150, score=0.347681607422, total=   0.6s\n",
            "[CV] alpha=0.0005, activation=identity, solver=lbfgs, hidden_layer_sizes=(150, 50) \n",
            "[CV]  alpha=0.0005, activation=identity, solver=lbfgs, hidden_layer_sizes=(150, 50), score=0.374220851856, total=   1.0s\n",
            "[CV] alpha=0.0005, activation=identity, solver=lbfgs, hidden_layer_sizes=(150, 50) \n",
            "[CV]  alpha=0.0005, activation=identity, solver=lbfgs, hidden_layer_sizes=(150, 50), score=0.396097391929, total=   1.0s\n",
            "[CV] alpha=0.0005, activation=identity, solver=lbfgs, hidden_layer_sizes=(150, 50) \n",
            "[CV]  alpha=0.0005, activation=identity, solver=lbfgs, hidden_layer_sizes=(150, 50), score=0.353121566125, total=   1.0s\n",
            "[CV] alpha=0.0005, activation=identity, solver=sgd, hidden_layer_sizes=(150, 50) \n",
            "[CV]  alpha=0.0005, activation=identity, solver=sgd, hidden_layer_sizes=(150, 50), score=0.361217050358, total=   0.3s\n",
            "[CV] alpha=0.0005, activation=identity, solver=sgd, hidden_layer_sizes=(150, 50) \n",
            "[CV]  alpha=0.0005, activation=identity, solver=sgd, hidden_layer_sizes=(150, 50), score=0.384174472371, total=   0.2s\n",
            "[CV] alpha=0.0005, activation=identity, solver=sgd, hidden_layer_sizes=(150, 50) \n",
            "[CV]  alpha=0.0005, activation=identity, solver=sgd, hidden_layer_sizes=(150, 50), score=0.355304043045, total=   0.2s\n",
            "[CV] alpha=0.0005, activation=identity, solver=adam, hidden_layer_sizes=(150, 50) \n",
            "[CV]  alpha=0.0005, activation=identity, solver=adam, hidden_layer_sizes=(150, 50), score=0.363559793598, total=   0.6s\n",
            "[CV] alpha=0.0005, activation=identity, solver=adam, hidden_layer_sizes=(150, 50) \n",
            "[CV]  alpha=0.0005, activation=identity, solver=adam, hidden_layer_sizes=(150, 50), score=0.381487086586, total=   0.5s\n",
            "[CV] alpha=0.0005, activation=identity, solver=adam, hidden_layer_sizes=(150, 50) \n",
            "[CV]  alpha=0.0005, activation=identity, solver=adam, hidden_layer_sizes=(150, 50), score=0.348465975958, total=   0.6s\n",
            "[CV] alpha=0.0005, activation=identity, solver=lbfgs, hidden_layer_sizes=(100, 50) \n",
            "[CV]  alpha=0.0005, activation=identity, solver=lbfgs, hidden_layer_sizes=(100, 50), score=0.37375627206, total=   0.7s\n",
            "[CV] alpha=0.0005, activation=identity, solver=lbfgs, hidden_layer_sizes=(100, 50) \n",
            "[CV]  alpha=0.0005, activation=identity, solver=lbfgs, hidden_layer_sizes=(100, 50), score=0.395803676315, total=   0.7s\n",
            "[CV] alpha=0.0005, activation=identity, solver=lbfgs, hidden_layer_sizes=(100, 50) \n",
            "[CV]  alpha=0.0005, activation=identity, solver=lbfgs, hidden_layer_sizes=(100, 50), score=0.353531234725, total=   0.7s\n",
            "[CV] alpha=0.0005, activation=identity, solver=sgd, hidden_layer_sizes=(100, 50) \n",
            "[CV]  alpha=0.0005, activation=identity, solver=sgd, hidden_layer_sizes=(100, 50), score=0.355013675773, total=   0.2s\n",
            "[CV] alpha=0.0005, activation=identity, solver=sgd, hidden_layer_sizes=(100, 50) \n",
            "[CV]  alpha=0.0005, activation=identity, solver=sgd, hidden_layer_sizes=(100, 50), score=0.381480632679, total=   0.1s\n",
            "[CV] alpha=0.0005, activation=identity, solver=sgd, hidden_layer_sizes=(100, 50) \n",
            "[CV]  alpha=0.0005, activation=identity, solver=sgd, hidden_layer_sizes=(100, 50), score=0.354983091008, total=   0.2s\n",
            "[CV] alpha=0.0005, activation=identity, solver=adam, hidden_layer_sizes=(100, 50) \n",
            "[CV]  alpha=0.0005, activation=identity, solver=adam, hidden_layer_sizes=(100, 50), score=0.360918286983, total=   0.5s\n",
            "[CV] alpha=0.0005, activation=identity, solver=adam, hidden_layer_sizes=(100, 50) \n",
            "[CV]  alpha=0.0005, activation=identity, solver=adam, hidden_layer_sizes=(100, 50), score=0.384522518245, total=   0.6s\n",
            "[CV] alpha=0.0005, activation=identity, solver=adam, hidden_layer_sizes=(100, 50) \n",
            "[CV]  alpha=0.0005, activation=identity, solver=adam, hidden_layer_sizes=(100, 50), score=0.347047066328, total=   0.6s\n",
            "[CV] alpha=0.0005, activation=identity, solver=lbfgs, hidden_layer_sizes=200 \n",
            "[CV]  alpha=0.0005, activation=identity, solver=lbfgs, hidden_layer_sizes=200, score=0.374562196162, total=   0.6s\n",
            "[CV] alpha=0.0005, activation=identity, solver=lbfgs, hidden_layer_sizes=200 \n",
            "[CV]  alpha=0.0005, activation=identity, solver=lbfgs, hidden_layer_sizes=200, score=0.396116293463, total=   0.5s\n",
            "[CV] alpha=0.0005, activation=identity, solver=lbfgs, hidden_layer_sizes=200 \n",
            "[CV]  alpha=0.0005, activation=identity, solver=lbfgs, hidden_layer_sizes=200, score=0.35313013843, total=   0.6s\n",
            "[CV] alpha=0.0005, activation=identity, solver=sgd, hidden_layer_sizes=200 \n",
            "[CV]  alpha=0.0005, activation=identity, solver=sgd, hidden_layer_sizes=200, score=0.362063032596, total=   0.3s\n",
            "[CV] alpha=0.0005, activation=identity, solver=sgd, hidden_layer_sizes=200 \n",
            "[CV]  alpha=0.0005, activation=identity, solver=sgd, hidden_layer_sizes=200, score=0.381804772129, total=   0.2s\n",
            "[CV] alpha=0.0005, activation=identity, solver=sgd, hidden_layer_sizes=200 \n",
            "[CV]  alpha=0.0005, activation=identity, solver=sgd, hidden_layer_sizes=200, score=0.350520198886, total=   0.3s\n",
            "[CV] alpha=0.0005, activation=identity, solver=adam, hidden_layer_sizes=200 \n",
            "[CV]  alpha=0.0005, activation=identity, solver=adam, hidden_layer_sizes=200, score=0.363494037144, total=   0.8s\n",
            "[CV] alpha=0.0005, activation=identity, solver=adam, hidden_layer_sizes=200 \n",
            "[CV]  alpha=0.0005, activation=identity, solver=adam, hidden_layer_sizes=200, score=0.382811427705, total=   0.6s\n",
            "[CV] alpha=0.0005, activation=identity, solver=adam, hidden_layer_sizes=200 \n",
            "[CV]  alpha=0.0005, activation=identity, solver=adam, hidden_layer_sizes=200, score=0.347226644319, total=   0.8s\n",
            "[CV] alpha=5e-05, activation=logistic, solver=lbfgs, hidden_layer_sizes=150 \n",
            "[CV]  alpha=5e-05, activation=logistic, solver=lbfgs, hidden_layer_sizes=150, score=0.18945825037, total=   1.3s\n",
            "[CV] alpha=5e-05, activation=logistic, solver=lbfgs, hidden_layer_sizes=150 \n",
            "[CV]  alpha=5e-05, activation=logistic, solver=lbfgs, hidden_layer_sizes=150, score=-0.0423995881491, total=   1.3s\n",
            "[CV] alpha=5e-05, activation=logistic, solver=lbfgs, hidden_layer_sizes=150 \n",
            "[CV]  alpha=5e-05, activation=logistic, solver=lbfgs, hidden_layer_sizes=150, score=0.0575187099171, total=   1.3s\n",
            "[CV] alpha=5e-05, activation=logistic, solver=sgd, hidden_layer_sizes=150 \n",
            "[CV]  alpha=5e-05, activation=logistic, solver=sgd, hidden_layer_sizes=150, score=0.384522841423, total=   1.4s\n",
            "[CV] alpha=5e-05, activation=logistic, solver=sgd, hidden_layer_sizes=150 \n",
            "[CV]  alpha=5e-05, activation=logistic, solver=sgd, hidden_layer_sizes=150, score=0.401384420996, total=   1.4s\n",
            "[CV] alpha=5e-05, activation=logistic, solver=sgd, hidden_layer_sizes=150 \n",
            "[CV]  alpha=5e-05, activation=logistic, solver=sgd, hidden_layer_sizes=150, score=0.376894757872, total=   1.4s\n",
            "[CV] alpha=5e-05, activation=logistic, solver=adam, hidden_layer_sizes=150 \n",
            "[CV]  alpha=5e-05, activation=logistic, solver=adam, hidden_layer_sizes=150, score=0.372501247639, total=   1.4s\n",
            "[CV] alpha=5e-05, activation=logistic, solver=adam, hidden_layer_sizes=150 \n",
            "[CV]  alpha=5e-05, activation=logistic, solver=adam, hidden_layer_sizes=150, score=0.37572847961, total=   1.4s\n",
            "[CV] alpha=5e-05, activation=logistic, solver=adam, hidden_layer_sizes=150 \n",
            "[CV]  alpha=5e-05, activation=logistic, solver=adam, hidden_layer_sizes=150, score=0.355247025262, total=   1.4s\n",
            "[CV] alpha=5e-05, activation=logistic, solver=lbfgs, hidden_layer_sizes=(150, 50) \n",
            "[CV]  alpha=5e-05, activation=logistic, solver=lbfgs, hidden_layer_sizes=(150, 50), score=0.361616598447, total=   2.1s\n",
            "[CV] alpha=5e-05, activation=logistic, solver=lbfgs, hidden_layer_sizes=(150, 50) \n",
            "[CV]  alpha=5e-05, activation=logistic, solver=lbfgs, hidden_layer_sizes=(150, 50), score=0.351566871626, total=   2.1s\n",
            "[CV] alpha=5e-05, activation=logistic, solver=lbfgs, hidden_layer_sizes=(150, 50) \n",
            "[CV]  alpha=5e-05, activation=logistic, solver=lbfgs, hidden_layer_sizes=(150, 50), score=0.221475606291, total=   2.1s\n",
            "[CV] alpha=5e-05, activation=logistic, solver=sgd, hidden_layer_sizes=(150, 50) \n",
            "[CV]  alpha=5e-05, activation=logistic, solver=sgd, hidden_layer_sizes=(150, 50), score=0.425747192837, total=   2.1s\n",
            "[CV] alpha=5e-05, activation=logistic, solver=sgd, hidden_layer_sizes=(150, 50) \n",
            "[CV]  alpha=5e-05, activation=logistic, solver=sgd, hidden_layer_sizes=(150, 50), score=0.455333815244, total=   2.1s\n",
            "[CV] alpha=5e-05, activation=logistic, solver=sgd, hidden_layer_sizes=(150, 50) \n",
            "[CV]  alpha=5e-05, activation=logistic, solver=sgd, hidden_layer_sizes=(150, 50), score=0.422243390826, total=   2.1s\n",
            "[CV] alpha=5e-05, activation=logistic, solver=adam, hidden_layer_sizes=(150, 50) \n",
            "[CV]  alpha=5e-05, activation=logistic, solver=adam, hidden_layer_sizes=(150, 50), score=0.225950519921, total=   2.2s\n",
            "[CV] alpha=5e-05, activation=logistic, solver=adam, hidden_layer_sizes=(150, 50) \n",
            "[CV]  alpha=5e-05, activation=logistic, solver=adam, hidden_layer_sizes=(150, 50), score=0.159366179193, total=   2.3s\n",
            "[CV] alpha=5e-05, activation=logistic, solver=adam, hidden_layer_sizes=(150, 50) \n",
            "[CV]  alpha=5e-05, activation=logistic, solver=adam, hidden_layer_sizes=(150, 50), score=0.107577564422, total=   2.2s\n",
            "[CV] alpha=5e-05, activation=logistic, solver=lbfgs, hidden_layer_sizes=(100, 50) \n",
            "[CV]  alpha=5e-05, activation=logistic, solver=lbfgs, hidden_layer_sizes=(100, 50), score=0.431628884789, total=   1.6s\n",
            "[CV] alpha=5e-05, activation=logistic, solver=lbfgs, hidden_layer_sizes=(100, 50) \n",
            "[CV]  alpha=5e-05, activation=logistic, solver=lbfgs, hidden_layer_sizes=(100, 50), score=0.322130681942, total=   1.6s\n",
            "[CV] alpha=5e-05, activation=logistic, solver=lbfgs, hidden_layer_sizes=(100, 50) \n",
            "[CV]  alpha=5e-05, activation=logistic, solver=lbfgs, hidden_layer_sizes=(100, 50), score=0.224719537126, total=   1.6s\n",
            "[CV] alpha=5e-05, activation=logistic, solver=sgd, hidden_layer_sizes=(100, 50) \n",
            "[CV]  alpha=5e-05, activation=logistic, solver=sgd, hidden_layer_sizes=(100, 50), score=0.44024727254, total=   1.7s\n",
            "[CV] alpha=5e-05, activation=logistic, solver=sgd, hidden_layer_sizes=(100, 50) \n",
            "[CV]  alpha=5e-05, activation=logistic, solver=sgd, hidden_layer_sizes=(100, 50), score=0.481455896882, total=   1.6s\n",
            "[CV] alpha=5e-05, activation=logistic, solver=sgd, hidden_layer_sizes=(100, 50) \n",
            "[CV]  alpha=5e-05, activation=logistic, solver=sgd, hidden_layer_sizes=(100, 50), score=0.435042207818, total=   1.7s\n",
            "[CV] alpha=5e-05, activation=logistic, solver=adam, hidden_layer_sizes=(100, 50) \n",
            "[CV]  alpha=5e-05, activation=logistic, solver=adam, hidden_layer_sizes=(100, 50), score=0.249928934603, total=   1.8s\n",
            "[CV] alpha=5e-05, activation=logistic, solver=adam, hidden_layer_sizes=(100, 50) \n",
            "[CV]  alpha=5e-05, activation=logistic, solver=adam, hidden_layer_sizes=(100, 50), score=0.244741635037, total=   1.8s\n",
            "[CV] alpha=5e-05, activation=logistic, solver=adam, hidden_layer_sizes=(100, 50) \n",
            "[CV]  alpha=5e-05, activation=logistic, solver=adam, hidden_layer_sizes=(100, 50), score=0.194866274688, total=   1.7s\n",
            "[CV] alpha=5e-05, activation=logistic, solver=lbfgs, hidden_layer_sizes=200 \n",
            "[CV]  alpha=5e-05, activation=logistic, solver=lbfgs, hidden_layer_sizes=200, score=0.149161638966, total=   1.6s\n",
            "[CV] alpha=5e-05, activation=logistic, solver=lbfgs, hidden_layer_sizes=200 \n",
            "[CV]  alpha=5e-05, activation=logistic, solver=lbfgs, hidden_layer_sizes=200, score=0.00489122718496, total=   1.6s\n",
            "[CV] alpha=5e-05, activation=logistic, solver=lbfgs, hidden_layer_sizes=200 \n",
            "[CV]  alpha=5e-05, activation=logistic, solver=lbfgs, hidden_layer_sizes=200, score=-0.0065162218038, total=   1.6s\n",
            "[CV] alpha=5e-05, activation=logistic, solver=sgd, hidden_layer_sizes=200 \n",
            "[CV]  alpha=5e-05, activation=logistic, solver=sgd, hidden_layer_sizes=200, score=0.379051322954, total=   1.8s\n",
            "[CV] alpha=5e-05, activation=logistic, solver=sgd, hidden_layer_sizes=200 \n",
            "[CV]  alpha=5e-05, activation=logistic, solver=sgd, hidden_layer_sizes=200, score=0.398291982337, total=   1.8s\n",
            "[CV] alpha=5e-05, activation=logistic, solver=sgd, hidden_layer_sizes=200 \n",
            "[CV]  alpha=5e-05, activation=logistic, solver=sgd, hidden_layer_sizes=200, score=0.37542860019, total=   1.8s\n",
            "[CV] alpha=5e-05, activation=logistic, solver=adam, hidden_layer_sizes=200 \n",
            "[CV]  alpha=5e-05, activation=logistic, solver=adam, hidden_layer_sizes=200, score=0.372827592549, total=   1.9s\n",
            "[CV] alpha=5e-05, activation=logistic, solver=adam, hidden_layer_sizes=200 \n",
            "[CV]  alpha=5e-05, activation=logistic, solver=adam, hidden_layer_sizes=200, score=0.377207369479, total=   1.8s\n",
            "[CV] alpha=5e-05, activation=logistic, solver=adam, hidden_layer_sizes=200 \n",
            "[CV]  alpha=5e-05, activation=logistic, solver=adam, hidden_layer_sizes=200, score=0.356269608005, total=   1.9s\n",
            "[CV] alpha=0.0005, activation=logistic, solver=lbfgs, hidden_layer_sizes=150 \n",
            "[CV]  alpha=0.0005, activation=logistic, solver=lbfgs, hidden_layer_sizes=150, score=0.046909812661, total=   1.2s\n",
            "[CV] alpha=0.0005, activation=logistic, solver=lbfgs, hidden_layer_sizes=150 \n",
            "[CV]  alpha=0.0005, activation=logistic, solver=lbfgs, hidden_layer_sizes=150, score=-0.0527651898047, total=   1.2s\n",
            "[CV] alpha=0.0005, activation=logistic, solver=lbfgs, hidden_layer_sizes=150 \n",
            "[CV]  alpha=0.0005, activation=logistic, solver=lbfgs, hidden_layer_sizes=150, score=-0.00538009613939, total=   1.2s\n",
            "[CV] alpha=0.0005, activation=logistic, solver=sgd, hidden_layer_sizes=150 \n",
            "[CV]  alpha=0.0005, activation=logistic, solver=sgd, hidden_layer_sizes=150, score=0.38461352063, total=   1.3s\n",
            "[CV] alpha=0.0005, activation=logistic, solver=sgd, hidden_layer_sizes=150 \n",
            "[CV]  alpha=0.0005, activation=logistic, solver=sgd, hidden_layer_sizes=150, score=0.396701403304, total=   1.3s\n",
            "[CV] alpha=0.0005, activation=logistic, solver=sgd, hidden_layer_sizes=150 \n",
            "[CV]  alpha=0.0005, activation=logistic, solver=sgd, hidden_layer_sizes=150, score=0.378950420613, total=   1.4s\n",
            "[CV] alpha=0.0005, activation=logistic, solver=adam, hidden_layer_sizes=150 \n",
            "[CV]  alpha=0.0005, activation=logistic, solver=adam, hidden_layer_sizes=150, score=0.373332888376, total=   1.4s\n",
            "[CV] alpha=0.0005, activation=logistic, solver=adam, hidden_layer_sizes=150 \n",
            "[CV]  alpha=0.0005, activation=logistic, solver=adam, hidden_layer_sizes=150, score=0.375274102421, total=   1.4s\n",
            "[CV] alpha=0.0005, activation=logistic, solver=adam, hidden_layer_sizes=150 \n",
            "[CV]  alpha=0.0005, activation=logistic, solver=adam, hidden_layer_sizes=150, score=0.355309316229, total=   1.4s\n",
            "[CV] alpha=0.0005, activation=logistic, solver=lbfgs, hidden_layer_sizes=(150, 50) \n",
            "[CV]  alpha=0.0005, activation=logistic, solver=lbfgs, hidden_layer_sizes=(150, 50), score=0.32311795235, total=   2.0s\n",
            "[CV] alpha=0.0005, activation=logistic, solver=lbfgs, hidden_layer_sizes=(150, 50) \n",
            "[CV]  alpha=0.0005, activation=logistic, solver=lbfgs, hidden_layer_sizes=(150, 50), score=-0.70899400937, total=   2.0s\n",
            "[CV] alpha=0.0005, activation=logistic, solver=lbfgs, hidden_layer_sizes=(150, 50) \n",
            "[CV]  alpha=0.0005, activation=logistic, solver=lbfgs, hidden_layer_sizes=(150, 50), score=0.165624486713, total=   2.0s\n",
            "[CV] alpha=0.0005, activation=logistic, solver=sgd, hidden_layer_sizes=(150, 50) \n",
            "[CV]  alpha=0.0005, activation=logistic, solver=sgd, hidden_layer_sizes=(150, 50), score=0.40917801387, total=   2.0s\n",
            "[CV] alpha=0.0005, activation=logistic, solver=sgd, hidden_layer_sizes=(150, 50) \n",
            "[CV]  alpha=0.0005, activation=logistic, solver=sgd, hidden_layer_sizes=(150, 50), score=0.45786547443, total=   2.1s\n",
            "[CV] alpha=0.0005, activation=logistic, solver=sgd, hidden_layer_sizes=(150, 50) \n",
            "[CV]  alpha=0.0005, activation=logistic, solver=sgd, hidden_layer_sizes=(150, 50), score=0.431451197723, total=   2.0s\n",
            "[CV] alpha=0.0005, activation=logistic, solver=adam, hidden_layer_sizes=(150, 50) \n",
            "[CV]  alpha=0.0005, activation=logistic, solver=adam, hidden_layer_sizes=(150, 50), score=0.149972400231, total=   2.2s\n",
            "[CV] alpha=0.0005, activation=logistic, solver=adam, hidden_layer_sizes=(150, 50) \n",
            "[CV]  alpha=0.0005, activation=logistic, solver=adam, hidden_layer_sizes=(150, 50), score=0.173400835822, total=   2.2s\n",
            "[CV] alpha=0.0005, activation=logistic, solver=adam, hidden_layer_sizes=(150, 50) \n",
            "[CV]  alpha=0.0005, activation=logistic, solver=adam, hidden_layer_sizes=(150, 50), score=0.144973416095, total=   2.2s\n",
            "[CV] alpha=0.0005, activation=logistic, solver=lbfgs, hidden_layer_sizes=(100, 50) \n",
            "[CV]  alpha=0.0005, activation=logistic, solver=lbfgs, hidden_layer_sizes=(100, 50), score=0.187363670825, total=   1.5s\n",
            "[CV] alpha=0.0005, activation=logistic, solver=lbfgs, hidden_layer_sizes=(100, 50) \n",
            "[CV]  alpha=0.0005, activation=logistic, solver=lbfgs, hidden_layer_sizes=(100, 50), score=0.244434131967, total=   1.5s\n",
            "[CV] alpha=0.0005, activation=logistic, solver=lbfgs, hidden_layer_sizes=(100, 50) \n",
            "[CV]  alpha=0.0005, activation=logistic, solver=lbfgs, hidden_layer_sizes=(100, 50), score=0.222839033923, total=   1.5s\n",
            "[CV] alpha=0.0005, activation=logistic, solver=sgd, hidden_layer_sizes=(100, 50) \n",
            "[CV]  alpha=0.0005, activation=logistic, solver=sgd, hidden_layer_sizes=(100, 50), score=0.440728344814, total=   1.6s\n",
            "[CV] alpha=0.0005, activation=logistic, solver=sgd, hidden_layer_sizes=(100, 50) \n",
            "[CV]  alpha=0.0005, activation=logistic, solver=sgd, hidden_layer_sizes=(100, 50), score=0.475656452993, total=   1.6s\n",
            "[CV] alpha=0.0005, activation=logistic, solver=sgd, hidden_layer_sizes=(100, 50) \n",
            "[CV]  alpha=0.0005, activation=logistic, solver=sgd, hidden_layer_sizes=(100, 50), score=0.434077631184, total=   1.6s\n",
            "[CV] alpha=0.0005, activation=logistic, solver=adam, hidden_layer_sizes=(100, 50) \n",
            "[CV]  alpha=0.0005, activation=logistic, solver=adam, hidden_layer_sizes=(100, 50), score=0.154718318253, total=   1.8s\n",
            "[CV] alpha=0.0005, activation=logistic, solver=adam, hidden_layer_sizes=(100, 50) \n",
            "[CV]  alpha=0.0005, activation=logistic, solver=adam, hidden_layer_sizes=(100, 50), score=0.189707432576, total=   1.7s\n",
            "[CV] alpha=0.0005, activation=logistic, solver=adam, hidden_layer_sizes=(100, 50) \n",
            "[CV]  alpha=0.0005, activation=logistic, solver=adam, hidden_layer_sizes=(100, 50), score=0.224227763255, total=   1.7s\n",
            "[CV] alpha=0.0005, activation=logistic, solver=lbfgs, hidden_layer_sizes=200 \n",
            "[CV]  alpha=0.0005, activation=logistic, solver=lbfgs, hidden_layer_sizes=200, score=0.0676222123728, total=   1.6s\n",
            "[CV] alpha=0.0005, activation=logistic, solver=lbfgs, hidden_layer_sizes=200 \n",
            "[CV]  alpha=0.0005, activation=logistic, solver=lbfgs, hidden_layer_sizes=200, score=-0.0841158112833, total=   1.6s\n",
            "[CV] alpha=0.0005, activation=logistic, solver=lbfgs, hidden_layer_sizes=200 \n",
            "[CV]  alpha=0.0005, activation=logistic, solver=lbfgs, hidden_layer_sizes=200, score=-0.00168606523197, total=   1.6s\n",
            "[CV] alpha=0.0005, activation=logistic, solver=sgd, hidden_layer_sizes=200 \n",
            "[CV]  alpha=0.0005, activation=logistic, solver=sgd, hidden_layer_sizes=200, score=0.382082566138, total=   1.8s\n",
            "[CV] alpha=0.0005, activation=logistic, solver=sgd, hidden_layer_sizes=200 \n",
            "[CV]  alpha=0.0005, activation=logistic, solver=sgd, hidden_layer_sizes=200, score=0.395407709295, total=   1.8s\n",
            "[CV] alpha=0.0005, activation=logistic, solver=sgd, hidden_layer_sizes=200 \n",
            "[CV]  alpha=0.0005, activation=logistic, solver=sgd, hidden_layer_sizes=200, score=0.376204234151, total=   1.8s\n",
            "[CV] alpha=0.0005, activation=logistic, solver=adam, hidden_layer_sizes=200 \n",
            "[CV]  alpha=0.0005, activation=logistic, solver=adam, hidden_layer_sizes=200, score=0.372671561397, total=   1.9s\n",
            "[CV] alpha=0.0005, activation=logistic, solver=adam, hidden_layer_sizes=200 \n",
            "[CV]  alpha=0.0005, activation=logistic, solver=adam, hidden_layer_sizes=200, score=0.377703669325, total=   1.8s\n",
            "[CV] alpha=0.0005, activation=logistic, solver=adam, hidden_layer_sizes=200 \n",
            "[CV]  alpha=0.0005, activation=logistic, solver=adam, hidden_layer_sizes=200, score=0.357152406556, total=   1.8s\n",
            "[CV] alpha=5e-05, activation=tanh, solver=lbfgs, hidden_layer_sizes=150 \n",
            "[CV]  alpha=5e-05, activation=tanh, solver=lbfgs, hidden_layer_sizes=150, score=-0.0390914608334, total=   1.6s\n",
            "[CV] alpha=5e-05, activation=tanh, solver=lbfgs, hidden_layer_sizes=150 \n",
            "[CV]  alpha=5e-05, activation=tanh, solver=lbfgs, hidden_layer_sizes=150, score=-0.0377619200688, total=   1.6s\n",
            "[CV] alpha=5e-05, activation=tanh, solver=lbfgs, hidden_layer_sizes=150 \n",
            "[CV]  alpha=5e-05, activation=tanh, solver=lbfgs, hidden_layer_sizes=150, score=-0.174621890145, total=   1.7s\n",
            "[CV] alpha=5e-05, activation=tanh, solver=sgd, hidden_layer_sizes=150 \n",
            "[CV]  alpha=5e-05, activation=tanh, solver=sgd, hidden_layer_sizes=150, score=0.471936833213, total=   1.7s\n",
            "[CV] alpha=5e-05, activation=tanh, solver=sgd, hidden_layer_sizes=150 \n",
            "[CV]  alpha=5e-05, activation=tanh, solver=sgd, hidden_layer_sizes=150, score=0.522303009041, total=   1.7s\n",
            "[CV] alpha=5e-05, activation=tanh, solver=sgd, hidden_layer_sizes=150 \n",
            "[CV]  alpha=5e-05, activation=tanh, solver=sgd, hidden_layer_sizes=150, score=0.506050254999, total=   1.7s\n",
            "[CV] alpha=5e-05, activation=tanh, solver=adam, hidden_layer_sizes=150 \n",
            "[CV]  alpha=5e-05, activation=tanh, solver=adam, hidden_layer_sizes=150, score=0.415688338177, total=   1.7s\n",
            "[CV] alpha=5e-05, activation=tanh, solver=adam, hidden_layer_sizes=150 \n",
            "[CV]  alpha=5e-05, activation=tanh, solver=adam, hidden_layer_sizes=150, score=0.435781573312, total=   1.8s\n",
            "[CV] alpha=5e-05, activation=tanh, solver=adam, hidden_layer_sizes=150 \n",
            "[CV]  alpha=5e-05, activation=tanh, solver=adam, hidden_layer_sizes=150, score=0.400689767585, total=   1.8s\n",
            "[CV] alpha=5e-05, activation=tanh, solver=lbfgs, hidden_layer_sizes=(150, 50) \n",
            "[CV]  alpha=5e-05, activation=tanh, solver=lbfgs, hidden_layer_sizes=(150, 50), score=0.24692245167, total=   2.6s\n",
            "[CV] alpha=5e-05, activation=tanh, solver=lbfgs, hidden_layer_sizes=(150, 50) \n",
            "[CV]  alpha=5e-05, activation=tanh, solver=lbfgs, hidden_layer_sizes=(150, 50), score=0.187984414602, total=   2.7s\n",
            "[CV] alpha=5e-05, activation=tanh, solver=lbfgs, hidden_layer_sizes=(150, 50) \n",
            "[CV]  alpha=5e-05, activation=tanh, solver=lbfgs, hidden_layer_sizes=(150, 50), score=0.25267014191, total=   2.6s\n",
            "[CV] alpha=5e-05, activation=tanh, solver=sgd, hidden_layer_sizes=(150, 50) \n",
            "[CV]  alpha=5e-05, activation=tanh, solver=sgd, hidden_layer_sizes=(150, 50), score=0.416331962079, total=   2.6s\n",
            "[CV] alpha=5e-05, activation=tanh, solver=sgd, hidden_layer_sizes=(150, 50) \n",
            "[CV]  alpha=5e-05, activation=tanh, solver=sgd, hidden_layer_sizes=(150, 50), score=0.474270172584, total=   2.5s\n",
            "[CV] alpha=5e-05, activation=tanh, solver=sgd, hidden_layer_sizes=(150, 50) \n",
            "[CV]  alpha=5e-05, activation=tanh, solver=sgd, hidden_layer_sizes=(150, 50), score=0.395147677814, total=   2.6s\n",
            "[CV] alpha=5e-05, activation=tanh, solver=adam, hidden_layer_sizes=(150, 50) \n",
            "[CV]  alpha=5e-05, activation=tanh, solver=adam, hidden_layer_sizes=(150, 50), score=0.406731126545, total=   2.7s\n",
            "[CV] alpha=5e-05, activation=tanh, solver=adam, hidden_layer_sizes=(150, 50) \n",
            "[CV]  alpha=5e-05, activation=tanh, solver=adam, hidden_layer_sizes=(150, 50), score=0.444364169768, total=   2.6s\n",
            "[CV] alpha=5e-05, activation=tanh, solver=adam, hidden_layer_sizes=(150, 50) \n",
            "[CV]  alpha=5e-05, activation=tanh, solver=adam, hidden_layer_sizes=(150, 50), score=0.420187140934, total=   2.6s\n",
            "[CV] alpha=5e-05, activation=tanh, solver=lbfgs, hidden_layer_sizes=(100, 50) \n",
            "[CV]  alpha=5e-05, activation=tanh, solver=lbfgs, hidden_layer_sizes=(100, 50), score=0.216661225501, total=   2.0s\n",
            "[CV] alpha=5e-05, activation=tanh, solver=lbfgs, hidden_layer_sizes=(100, 50) \n",
            "[CV]  alpha=5e-05, activation=tanh, solver=lbfgs, hidden_layer_sizes=(100, 50), score=0.197047904846, total=   2.0s\n",
            "[CV] alpha=5e-05, activation=tanh, solver=lbfgs, hidden_layer_sizes=(100, 50) \n",
            "[CV]  alpha=5e-05, activation=tanh, solver=lbfgs, hidden_layer_sizes=(100, 50), score=0.125012349871, total=   2.1s\n",
            "[CV] alpha=5e-05, activation=tanh, solver=sgd, hidden_layer_sizes=(100, 50) \n",
            "[CV]  alpha=5e-05, activation=tanh, solver=sgd, hidden_layer_sizes=(100, 50), score=0.482678626167, total=   2.1s\n",
            "[CV] alpha=5e-05, activation=tanh, solver=sgd, hidden_layer_sizes=(100, 50) \n",
            "[CV]  alpha=5e-05, activation=tanh, solver=sgd, hidden_layer_sizes=(100, 50), score=0.490309395306, total=   2.0s\n",
            "[CV] alpha=5e-05, activation=tanh, solver=sgd, hidden_layer_sizes=(100, 50) \n",
            "[CV]  alpha=5e-05, activation=tanh, solver=sgd, hidden_layer_sizes=(100, 50), score=0.361429317904, total=   2.1s\n",
            "[CV] alpha=5e-05, activation=tanh, solver=adam, hidden_layer_sizes=(100, 50) \n",
            "[CV]  alpha=5e-05, activation=tanh, solver=adam, hidden_layer_sizes=(100, 50), score=0.395528461635, total=   2.1s\n",
            "[CV] alpha=5e-05, activation=tanh, solver=adam, hidden_layer_sizes=(100, 50) \n",
            "[CV]  alpha=5e-05, activation=tanh, solver=adam, hidden_layer_sizes=(100, 50), score=0.462086093929, total=   2.1s\n",
            "[CV] alpha=5e-05, activation=tanh, solver=adam, hidden_layer_sizes=(100, 50) \n",
            "[CV]  alpha=5e-05, activation=tanh, solver=adam, hidden_layer_sizes=(100, 50), score=0.405679238357, total=   2.1s\n",
            "[CV] alpha=5e-05, activation=tanh, solver=lbfgs, hidden_layer_sizes=200 \n",
            "[CV]  alpha=5e-05, activation=tanh, solver=lbfgs, hidden_layer_sizes=200, score=0.0729414423936, total=   2.2s\n",
            "[CV] alpha=5e-05, activation=tanh, solver=lbfgs, hidden_layer_sizes=200 \n",
            "[CV]  alpha=5e-05, activation=tanh, solver=lbfgs, hidden_layer_sizes=200, score=0.0239699731166, total=   2.2s\n",
            "[CV] alpha=5e-05, activation=tanh, solver=lbfgs, hidden_layer_sizes=200 \n",
            "[CV]  alpha=5e-05, activation=tanh, solver=lbfgs, hidden_layer_sizes=200, score=-0.0441848291057, total=   2.2s\n",
            "[CV] alpha=5e-05, activation=tanh, solver=sgd, hidden_layer_sizes=200 \n",
            "[CV]  alpha=5e-05, activation=tanh, solver=sgd, hidden_layer_sizes=200, score=0.479599437685, total=   2.3s\n",
            "[CV] alpha=5e-05, activation=tanh, solver=sgd, hidden_layer_sizes=200 \n",
            "[CV]  alpha=5e-05, activation=tanh, solver=sgd, hidden_layer_sizes=200, score=0.528972707969, total=   2.3s\n",
            "[CV] alpha=5e-05, activation=tanh, solver=sgd, hidden_layer_sizes=200 \n",
            "[CV]  alpha=5e-05, activation=tanh, solver=sgd, hidden_layer_sizes=200, score=0.499600738884, total=   2.3s\n",
            "[CV] alpha=5e-05, activation=tanh, solver=adam, hidden_layer_sizes=200 \n",
            "[CV]  alpha=5e-05, activation=tanh, solver=adam, hidden_layer_sizes=200, score=0.424102733168, total=   2.3s\n",
            "[CV] alpha=5e-05, activation=tanh, solver=adam, hidden_layer_sizes=200 \n",
            "[CV]  alpha=5e-05, activation=tanh, solver=adam, hidden_layer_sizes=200, score=0.438468219187, total=   2.3s\n",
            "[CV] alpha=5e-05, activation=tanh, solver=adam, hidden_layer_sizes=200 \n",
            "[CV]  alpha=5e-05, activation=tanh, solver=adam, hidden_layer_sizes=200, score=0.406868020565, total=   2.3s\n",
            "[CV] alpha=0.0005, activation=tanh, solver=lbfgs, hidden_layer_sizes=150 \n",
            "[CV]  alpha=0.0005, activation=tanh, solver=lbfgs, hidden_layer_sizes=150, score=-0.0447540763135, total=   1.7s\n",
            "[CV] alpha=0.0005, activation=tanh, solver=lbfgs, hidden_layer_sizes=150 \n",
            "[CV]  alpha=0.0005, activation=tanh, solver=lbfgs, hidden_layer_sizes=150, score=-0.212931979584, total=   1.7s\n",
            "[CV] alpha=0.0005, activation=tanh, solver=lbfgs, hidden_layer_sizes=150 \n",
            "[CV]  alpha=0.0005, activation=tanh, solver=lbfgs, hidden_layer_sizes=150, score=-0.0410483653528, total=   1.7s\n",
            "[CV] alpha=0.0005, activation=tanh, solver=sgd, hidden_layer_sizes=150 \n",
            "[CV]  alpha=0.0005, activation=tanh, solver=sgd, hidden_layer_sizes=150, score=0.482223440891, total=   1.7s\n",
            "[CV] alpha=0.0005, activation=tanh, solver=sgd, hidden_layer_sizes=150 \n",
            "[CV]  alpha=0.0005, activation=tanh, solver=sgd, hidden_layer_sizes=150, score=0.525846658412, total=   1.7s\n",
            "[CV] alpha=0.0005, activation=tanh, solver=sgd, hidden_layer_sizes=150 \n",
            "[CV]  alpha=0.0005, activation=tanh, solver=sgd, hidden_layer_sizes=150, score=0.48072998536, total=   1.7s\n",
            "[CV] alpha=0.0005, activation=tanh, solver=adam, hidden_layer_sizes=150 \n",
            "[CV]  alpha=0.0005, activation=tanh, solver=adam, hidden_layer_sizes=150, score=0.407878732946, total=   1.8s\n",
            "[CV] alpha=0.0005, activation=tanh, solver=adam, hidden_layer_sizes=150 \n",
            "[CV]  alpha=0.0005, activation=tanh, solver=adam, hidden_layer_sizes=150, score=0.43148841003, total=   1.7s\n",
            "[CV] alpha=0.0005, activation=tanh, solver=adam, hidden_layer_sizes=150 \n",
            "[CV]  alpha=0.0005, activation=tanh, solver=adam, hidden_layer_sizes=150, score=0.404261747851, total=   1.7s\n",
            "[CV] alpha=0.0005, activation=tanh, solver=lbfgs, hidden_layer_sizes=(150, 50) \n",
            "[CV]  alpha=0.0005, activation=tanh, solver=lbfgs, hidden_layer_sizes=(150, 50), score=0.324958256937, total=   2.6s\n",
            "[CV] alpha=0.0005, activation=tanh, solver=lbfgs, hidden_layer_sizes=(150, 50) \n",
            "[CV]  alpha=0.0005, activation=tanh, solver=lbfgs, hidden_layer_sizes=(150, 50), score=-0.0763297521826, total=   2.7s\n",
            "[CV] alpha=0.0005, activation=tanh, solver=lbfgs, hidden_layer_sizes=(150, 50) \n",
            "[CV]  alpha=0.0005, activation=tanh, solver=lbfgs, hidden_layer_sizes=(150, 50), score=0.173277166471, total=   2.7s\n",
            "[CV] alpha=0.0005, activation=tanh, solver=sgd, hidden_layer_sizes=(150, 50) \n",
            "[CV]  alpha=0.0005, activation=tanh, solver=sgd, hidden_layer_sizes=(150, 50), score=0.473901898506, total=   2.6s\n",
            "[CV] alpha=0.0005, activation=tanh, solver=sgd, hidden_layer_sizes=(150, 50) \n",
            "[CV]  alpha=0.0005, activation=tanh, solver=sgd, hidden_layer_sizes=(150, 50), score=0.462871201619, total=   2.6s\n",
            "[CV] alpha=0.0005, activation=tanh, solver=sgd, hidden_layer_sizes=(150, 50) \n",
            "[CV]  alpha=0.0005, activation=tanh, solver=sgd, hidden_layer_sizes=(150, 50), score=0.399387411734, total=   2.6s\n",
            "[CV] alpha=0.0005, activation=tanh, solver=adam, hidden_layer_sizes=(150, 50) \n",
            "[CV]  alpha=0.0005, activation=tanh, solver=adam, hidden_layer_sizes=(150, 50), score=0.413976551905, total=   2.6s\n",
            "[CV] alpha=0.0005, activation=tanh, solver=adam, hidden_layer_sizes=(150, 50) \n",
            "[CV]  alpha=0.0005, activation=tanh, solver=adam, hidden_layer_sizes=(150, 50), score=0.427346161197, total=   2.6s\n",
            "[CV] alpha=0.0005, activation=tanh, solver=adam, hidden_layer_sizes=(150, 50) \n",
            "[CV]  alpha=0.0005, activation=tanh, solver=adam, hidden_layer_sizes=(150, 50), score=0.400538383336, total=   2.6s\n",
            "[CV] alpha=0.0005, activation=tanh, solver=lbfgs, hidden_layer_sizes=(100, 50) \n",
            "[CV]  alpha=0.0005, activation=tanh, solver=lbfgs, hidden_layer_sizes=(100, 50), score=0.22993026367, total=   2.0s\n",
            "[CV] alpha=0.0005, activation=tanh, solver=lbfgs, hidden_layer_sizes=(100, 50) \n",
            "[CV]  alpha=0.0005, activation=tanh, solver=lbfgs, hidden_layer_sizes=(100, 50), score=0.134857354134, total=   2.0s\n",
            "[CV] alpha=0.0005, activation=tanh, solver=lbfgs, hidden_layer_sizes=(100, 50) \n",
            "[CV]  alpha=0.0005, activation=tanh, solver=lbfgs, hidden_layer_sizes=(100, 50), score=0.222815320398, total=   2.0s\n",
            "[CV] alpha=0.0005, activation=tanh, solver=sgd, hidden_layer_sizes=(100, 50) \n",
            "[CV]  alpha=0.0005, activation=tanh, solver=sgd, hidden_layer_sizes=(100, 50), score=0.441969435348, total=   2.1s\n",
            "[CV] alpha=0.0005, activation=tanh, solver=sgd, hidden_layer_sizes=(100, 50) \n",
            "[CV]  alpha=0.0005, activation=tanh, solver=sgd, hidden_layer_sizes=(100, 50), score=0.379184583957, total=   2.0s\n",
            "[CV] alpha=0.0005, activation=tanh, solver=sgd, hidden_layer_sizes=(100, 50) \n",
            "[CV]  alpha=0.0005, activation=tanh, solver=sgd, hidden_layer_sizes=(100, 50), score=0.334453542233, total=   2.0s\n",
            "[CV] alpha=0.0005, activation=tanh, solver=adam, hidden_layer_sizes=(100, 50) \n",
            "[CV]  alpha=0.0005, activation=tanh, solver=adam, hidden_layer_sizes=(100, 50), score=0.408547772055, total=   2.1s\n",
            "[CV] alpha=0.0005, activation=tanh, solver=adam, hidden_layer_sizes=(100, 50) \n",
            "[CV]  alpha=0.0005, activation=tanh, solver=adam, hidden_layer_sizes=(100, 50), score=0.423122137717, total=   2.2s\n",
            "[CV] alpha=0.0005, activation=tanh, solver=adam, hidden_layer_sizes=(100, 50) \n",
            "[CV]  alpha=0.0005, activation=tanh, solver=adam, hidden_layer_sizes=(100, 50), score=0.401957226326, total=   2.1s\n",
            "[CV] alpha=0.0005, activation=tanh, solver=lbfgs, hidden_layer_sizes=200 \n",
            "[CV]  alpha=0.0005, activation=tanh, solver=lbfgs, hidden_layer_sizes=200, score=0.12047254488, total=   2.2s\n",
            "[CV] alpha=0.0005, activation=tanh, solver=lbfgs, hidden_layer_sizes=200 \n",
            "[CV]  alpha=0.0005, activation=tanh, solver=lbfgs, hidden_layer_sizes=200, score=-0.199491421714, total=   2.2s\n",
            "[CV] alpha=0.0005, activation=tanh, solver=lbfgs, hidden_layer_sizes=200 \n",
            "[CV]  alpha=0.0005, activation=tanh, solver=lbfgs, hidden_layer_sizes=200, score=-0.117066059342, total=   2.2s\n",
            "[CV] alpha=0.0005, activation=tanh, solver=sgd, hidden_layer_sizes=200 \n",
            "[CV]  alpha=0.0005, activation=tanh, solver=sgd, hidden_layer_sizes=200, score=0.478406037254, total=   2.3s\n",
            "[CV] alpha=0.0005, activation=tanh, solver=sgd, hidden_layer_sizes=200 \n",
            "[CV]  alpha=0.0005, activation=tanh, solver=sgd, hidden_layer_sizes=200, score=0.526446386233, total=   2.3s\n",
            "[CV] alpha=0.0005, activation=tanh, solver=sgd, hidden_layer_sizes=200 \n",
            "[CV]  alpha=0.0005, activation=tanh, solver=sgd, hidden_layer_sizes=200, score=0.48779604257, total=   2.3s\n",
            "[CV] alpha=0.0005, activation=tanh, solver=adam, hidden_layer_sizes=200 \n",
            "[CV]  alpha=0.0005, activation=tanh, solver=adam, hidden_layer_sizes=200, score=0.420905368784, total=   2.3s\n",
            "[CV] alpha=0.0005, activation=tanh, solver=adam, hidden_layer_sizes=200 \n",
            "[CV]  alpha=0.0005, activation=tanh, solver=adam, hidden_layer_sizes=200, score=0.435774682711, total=   2.4s\n",
            "[CV] alpha=0.0005, activation=tanh, solver=adam, hidden_layer_sizes=200 \n",
            "[CV]  alpha=0.0005, activation=tanh, solver=adam, hidden_layer_sizes=200, score=0.404791139029, total=   2.4s\n",
            "[CV] alpha=5e-05, activation=relu, solver=lbfgs, hidden_layer_sizes=150 \n",
            "[CV]  alpha=5e-05, activation=relu, solver=lbfgs, hidden_layer_sizes=150, score=0.164240975181, total=   0.9s\n",
            "[CV] alpha=5e-05, activation=relu, solver=lbfgs, hidden_layer_sizes=150 \n",
            "[CV]  alpha=5e-05, activation=relu, solver=lbfgs, hidden_layer_sizes=150, score=0.0325558598799, total=   0.9s\n",
            "[CV] alpha=5e-05, activation=relu, solver=lbfgs, hidden_layer_sizes=150 \n",
            "[CV]  alpha=5e-05, activation=relu, solver=lbfgs, hidden_layer_sizes=150, score=0.136688939463, total=   0.9s\n",
            "[CV] alpha=5e-05, activation=relu, solver=sgd, hidden_layer_sizes=150 \n",
            "[CV]  alpha=5e-05, activation=relu, solver=sgd, hidden_layer_sizes=150, score=0.501016789694, total=   1.0s\n",
            "[CV] alpha=5e-05, activation=relu, solver=sgd, hidden_layer_sizes=150 \n",
            "[CV]  alpha=5e-05, activation=relu, solver=sgd, hidden_layer_sizes=150, score=0.537620222387, total=   1.0s\n",
            "[CV] alpha=5e-05, activation=relu, solver=sgd, hidden_layer_sizes=150 \n",
            "[CV]  alpha=5e-05, activation=relu, solver=sgd, hidden_layer_sizes=150, score=0.463225375228, total=   1.0s\n",
            "[CV] alpha=5e-05, activation=relu, solver=adam, hidden_layer_sizes=150 \n",
            "[CV]  alpha=5e-05, activation=relu, solver=adam, hidden_layer_sizes=150, score=0.453075139798, total=   1.0s\n",
            "[CV] alpha=5e-05, activation=relu, solver=adam, hidden_layer_sizes=150 \n",
            "[CV]  alpha=5e-05, activation=relu, solver=adam, hidden_layer_sizes=150, score=0.491920924547, total=   1.0s\n",
            "[CV] alpha=5e-05, activation=relu, solver=adam, hidden_layer_sizes=150 \n",
            "[CV]  alpha=5e-05, activation=relu, solver=adam, hidden_layer_sizes=150, score=0.448983810087, total=   1.0s\n",
            "[CV] alpha=5e-05, activation=relu, solver=lbfgs, hidden_layer_sizes=(150, 50) \n",
            "[CV]  alpha=5e-05, activation=relu, solver=lbfgs, hidden_layer_sizes=(150, 50), score=0.275326387454, total=   1.5s\n",
            "[CV] alpha=5e-05, activation=relu, solver=lbfgs, hidden_layer_sizes=(150, 50) \n",
            "[CV]  alpha=5e-05, activation=relu, solver=lbfgs, hidden_layer_sizes=(150, 50), score=0.368752862514, total=   1.4s\n",
            "[CV] alpha=5e-05, activation=relu, solver=lbfgs, hidden_layer_sizes=(150, 50) \n",
            "[CV]  alpha=5e-05, activation=relu, solver=lbfgs, hidden_layer_sizes=(150, 50), score=0.132136137686, total=   1.4s\n",
            "[CV] alpha=5e-05, activation=relu, solver=sgd, hidden_layer_sizes=(150, 50) \n",
            "[CV]  alpha=5e-05, activation=relu, solver=sgd, hidden_layer_sizes=(150, 50), score=0.490266911791, total=   0.8s\n",
            "[CV] alpha=5e-05, activation=relu, solver=sgd, hidden_layer_sizes=(150, 50) \n",
            "[CV]  alpha=5e-05, activation=relu, solver=sgd, hidden_layer_sizes=(150, 50), score=0.457406650587, total=   1.2s\n",
            "[CV] alpha=5e-05, activation=relu, solver=sgd, hidden_layer_sizes=(150, 50) \n",
            "[CV]  alpha=5e-05, activation=relu, solver=sgd, hidden_layer_sizes=(150, 50), score=0.338433912541, total=   0.9s\n",
            "[CV] alpha=5e-05, activation=relu, solver=adam, hidden_layer_sizes=(150, 50) \n",
            "[CV]  alpha=5e-05, activation=relu, solver=adam, hidden_layer_sizes=(150, 50), score=0.496578361703, total=   1.6s\n",
            "[CV] alpha=5e-05, activation=relu, solver=adam, hidden_layer_sizes=(150, 50) \n",
            "[CV]  alpha=5e-05, activation=relu, solver=adam, hidden_layer_sizes=(150, 50), score=0.519413899686, total=   1.6s\n",
            "[CV] alpha=5e-05, activation=relu, solver=adam, hidden_layer_sizes=(150, 50) \n",
            "[CV]  alpha=5e-05, activation=relu, solver=adam, hidden_layer_sizes=(150, 50), score=0.472489113739, total=   1.6s\n",
            "[CV] alpha=5e-05, activation=relu, solver=lbfgs, hidden_layer_sizes=(100, 50) \n",
            "[CV]  alpha=5e-05, activation=relu, solver=lbfgs, hidden_layer_sizes=(100, 50), score=0.230116617507, total=   1.1s\n",
            "[CV] alpha=5e-05, activation=relu, solver=lbfgs, hidden_layer_sizes=(100, 50) \n",
            "[CV]  alpha=5e-05, activation=relu, solver=lbfgs, hidden_layer_sizes=(100, 50), score=0.176043885914, total=   1.1s\n",
            "[CV] alpha=5e-05, activation=relu, solver=lbfgs, hidden_layer_sizes=(100, 50) \n",
            "[CV]  alpha=5e-05, activation=relu, solver=lbfgs, hidden_layer_sizes=(100, 50), score=0.105844956928, total=   1.1s\n",
            "[CV] alpha=5e-05, activation=relu, solver=sgd, hidden_layer_sizes=(100, 50) \n",
            "[CV]  alpha=5e-05, activation=relu, solver=sgd, hidden_layer_sizes=(100, 50), score=0.479320405856, total=   0.8s\n",
            "[CV] alpha=5e-05, activation=relu, solver=sgd, hidden_layer_sizes=(100, 50) \n",
            "[CV]  alpha=5e-05, activation=relu, solver=sgd, hidden_layer_sizes=(100, 50), score=0.481219191399, total=   0.9s\n",
            "[CV] alpha=5e-05, activation=relu, solver=sgd, hidden_layer_sizes=(100, 50) \n",
            "[CV]  alpha=5e-05, activation=relu, solver=sgd, hidden_layer_sizes=(100, 50), score=0.370355094995, total=   0.8s\n",
            "[CV] alpha=5e-05, activation=relu, solver=adam, hidden_layer_sizes=(100, 50) \n",
            "[CV]  alpha=5e-05, activation=relu, solver=adam, hidden_layer_sizes=(100, 50), score=0.493046826319, total=   1.3s\n",
            "[CV] alpha=5e-05, activation=relu, solver=adam, hidden_layer_sizes=(100, 50) \n",
            "[CV]  alpha=5e-05, activation=relu, solver=adam, hidden_layer_sizes=(100, 50), score=0.525495578458, total=   1.2s\n",
            "[CV] alpha=5e-05, activation=relu, solver=adam, hidden_layer_sizes=(100, 50) \n",
            "[CV]  alpha=5e-05, activation=relu, solver=adam, hidden_layer_sizes=(100, 50), score=0.466230541278, total=   1.2s\n",
            "[CV] alpha=5e-05, activation=relu, solver=lbfgs, hidden_layer_sizes=200 \n",
            "[CV]  alpha=5e-05, activation=relu, solver=lbfgs, hidden_layer_sizes=200, score=0.123321348445, total=   1.1s\n",
            "[CV] alpha=5e-05, activation=relu, solver=lbfgs, hidden_layer_sizes=200 \n",
            "[CV]  alpha=5e-05, activation=relu, solver=lbfgs, hidden_layer_sizes=200, score=0.138978986043, total=   1.0s\n",
            "[CV] alpha=5e-05, activation=relu, solver=lbfgs, hidden_layer_sizes=200 \n",
            "[CV]  alpha=5e-05, activation=relu, solver=lbfgs, hidden_layer_sizes=200, score=0.14845686308, total=   1.1s\n",
            "[CV] alpha=5e-05, activation=relu, solver=sgd, hidden_layer_sizes=200 \n",
            "[CV]  alpha=5e-05, activation=relu, solver=sgd, hidden_layer_sizes=200, score=0.516916467072, total=   1.3s\n",
            "[CV] alpha=5e-05, activation=relu, solver=sgd, hidden_layer_sizes=200 \n",
            "[CV]  alpha=5e-05, activation=relu, solver=sgd, hidden_layer_sizes=200, score=0.541059169515, total=   1.2s\n",
            "[CV] alpha=5e-05, activation=relu, solver=sgd, hidden_layer_sizes=200 \n",
            "[CV]  alpha=5e-05, activation=relu, solver=sgd, hidden_layer_sizes=200, score=0.469168024606, total=   1.2s\n",
            "[CV] alpha=5e-05, activation=relu, solver=adam, hidden_layer_sizes=200 \n",
            "[CV]  alpha=5e-05, activation=relu, solver=adam, hidden_layer_sizes=200, score=0.463105719608, total=   1.3s\n",
            "[CV] alpha=5e-05, activation=relu, solver=adam, hidden_layer_sizes=200 \n",
            "[CV]  alpha=5e-05, activation=relu, solver=adam, hidden_layer_sizes=200, score=0.506747683995, total=   1.3s\n",
            "[CV] alpha=5e-05, activation=relu, solver=adam, hidden_layer_sizes=200 \n",
            "[CV]  alpha=5e-05, activation=relu, solver=adam, hidden_layer_sizes=200, score=0.466049041142, total=   1.3s\n",
            "[CV] alpha=0.0005, activation=relu, solver=lbfgs, hidden_layer_sizes=150 \n",
            "[CV]  alpha=0.0005, activation=relu, solver=lbfgs, hidden_layer_sizes=150, score=0.134513964634, total=   0.8s\n",
            "[CV] alpha=0.0005, activation=relu, solver=lbfgs, hidden_layer_sizes=150 \n",
            "[CV]  alpha=0.0005, activation=relu, solver=lbfgs, hidden_layer_sizes=150, score=0.178171473611, total=   0.8s\n",
            "[CV] alpha=0.0005, activation=relu, solver=lbfgs, hidden_layer_sizes=150 \n",
            "[CV]  alpha=0.0005, activation=relu, solver=lbfgs, hidden_layer_sizes=150, score=0.116639382418, total=   0.8s\n",
            "[CV] alpha=0.0005, activation=relu, solver=sgd, hidden_layer_sizes=150 \n",
            "[CV]  alpha=0.0005, activation=relu, solver=sgd, hidden_layer_sizes=150, score=0.509875957468, total=   1.0s\n",
            "[CV] alpha=0.0005, activation=relu, solver=sgd, hidden_layer_sizes=150 \n",
            "[CV]  alpha=0.0005, activation=relu, solver=sgd, hidden_layer_sizes=150, score=0.543274681431, total=   0.9s\n",
            "[CV] alpha=0.0005, activation=relu, solver=sgd, hidden_layer_sizes=150 \n",
            "[CV]  alpha=0.0005, activation=relu, solver=sgd, hidden_layer_sizes=150, score=0.467792952836, total=   0.9s\n",
            "[CV] alpha=0.0005, activation=relu, solver=adam, hidden_layer_sizes=150 \n",
            "[CV]  alpha=0.0005, activation=relu, solver=adam, hidden_layer_sizes=150, score=0.451010071874, total=   1.0s\n",
            "[CV] alpha=0.0005, activation=relu, solver=adam, hidden_layer_sizes=150 \n",
            "[CV]  alpha=0.0005, activation=relu, solver=adam, hidden_layer_sizes=150, score=0.496161515758, total=   1.0s\n",
            "[CV] alpha=0.0005, activation=relu, solver=adam, hidden_layer_sizes=150 \n",
            "[CV]  alpha=0.0005, activation=relu, solver=adam, hidden_layer_sizes=150, score=0.445833454238, total=   1.0s\n",
            "[CV] alpha=0.0005, activation=relu, solver=lbfgs, hidden_layer_sizes=(150, 50) \n",
            "[CV]  alpha=0.0005, activation=relu, solver=lbfgs, hidden_layer_sizes=(150, 50), score=0.272821428436, total=   1.4s\n",
            "[CV] alpha=0.0005, activation=relu, solver=lbfgs, hidden_layer_sizes=(150, 50) \n",
            "[CV]  alpha=0.0005, activation=relu, solver=lbfgs, hidden_layer_sizes=(150, 50), score=0.226685137684, total=   1.4s\n",
            "[CV] alpha=0.0005, activation=relu, solver=lbfgs, hidden_layer_sizes=(150, 50) \n",
            "[CV]  alpha=0.0005, activation=relu, solver=lbfgs, hidden_layer_sizes=(150, 50), score=0.0674560789924, total=   1.4s\n",
            "[CV] alpha=0.0005, activation=relu, solver=sgd, hidden_layer_sizes=(150, 50) \n",
            "[CV]  alpha=0.0005, activation=relu, solver=sgd, hidden_layer_sizes=(150, 50), score=0.403540858412, total=   1.3s\n",
            "[CV] alpha=0.0005, activation=relu, solver=sgd, hidden_layer_sizes=(150, 50) \n",
            "[CV]  alpha=0.0005, activation=relu, solver=sgd, hidden_layer_sizes=(150, 50), score=0.403156438023, total=   1.4s\n",
            "[CV] alpha=0.0005, activation=relu, solver=sgd, hidden_layer_sizes=(150, 50) \n",
            "[CV]  alpha=0.0005, activation=relu, solver=sgd, hidden_layer_sizes=(150, 50), score=0.361810699012, total=   1.3s\n",
            "[CV] alpha=0.0005, activation=relu, solver=adam, hidden_layer_sizes=(150, 50) \n",
            "[CV]  alpha=0.0005, activation=relu, solver=adam, hidden_layer_sizes=(150, 50), score=0.513285336969, total=   1.6s\n",
            "[CV] alpha=0.0005, activation=relu, solver=adam, hidden_layer_sizes=(150, 50) \n",
            "[CV]  alpha=0.0005, activation=relu, solver=adam, hidden_layer_sizes=(150, 50), score=0.526227658308, total=   1.6s\n",
            "[CV] alpha=0.0005, activation=relu, solver=adam, hidden_layer_sizes=(150, 50) \n",
            "[CV]  alpha=0.0005, activation=relu, solver=adam, hidden_layer_sizes=(150, 50), score=0.471247447217, total=   1.5s\n",
            "[CV] alpha=0.0005, activation=relu, solver=lbfgs, hidden_layer_sizes=(100, 50) \n",
            "[CV]  alpha=0.0005, activation=relu, solver=lbfgs, hidden_layer_sizes=(100, 50), score=0.192291441258, total=   1.1s\n",
            "[CV] alpha=0.0005, activation=relu, solver=lbfgs, hidden_layer_sizes=(100, 50) \n",
            "[CV]  alpha=0.0005, activation=relu, solver=lbfgs, hidden_layer_sizes=(100, 50), score=0.0520861554408, total=   1.1s\n",
            "[CV] alpha=0.0005, activation=relu, solver=lbfgs, hidden_layer_sizes=(100, 50) \n",
            "[CV]  alpha=0.0005, activation=relu, solver=lbfgs, hidden_layer_sizes=(100, 50), score=0.200587650169, total=   1.1s\n",
            "[CV] alpha=0.0005, activation=relu, solver=sgd, hidden_layer_sizes=(100, 50) \n",
            "[CV]  alpha=0.0005, activation=relu, solver=sgd, hidden_layer_sizes=(100, 50), score=0.454986957152, total=   0.7s\n",
            "[CV] alpha=0.0005, activation=relu, solver=sgd, hidden_layer_sizes=(100, 50) \n",
            "[CV]  alpha=0.0005, activation=relu, solver=sgd, hidden_layer_sizes=(100, 50), score=0.463463312647, total=   1.2s\n",
            "[CV] alpha=0.0005, activation=relu, solver=sgd, hidden_layer_sizes=(100, 50) \n",
            "[CV]  alpha=0.0005, activation=relu, solver=sgd, hidden_layer_sizes=(100, 50), score=0.335593732335, total=   0.9s\n",
            "[CV] alpha=0.0005, activation=relu, solver=adam, hidden_layer_sizes=(100, 50) \n",
            "[CV]  alpha=0.0005, activation=relu, solver=adam, hidden_layer_sizes=(100, 50), score=0.499520880585, total=   1.3s\n",
            "[CV] alpha=0.0005, activation=relu, solver=adam, hidden_layer_sizes=(100, 50) \n",
            "[CV]  alpha=0.0005, activation=relu, solver=adam, hidden_layer_sizes=(100, 50), score=0.530249621034, total=   1.3s\n",
            "[CV] alpha=0.0005, activation=relu, solver=adam, hidden_layer_sizes=(100, 50) \n",
            "[CV]  alpha=0.0005, activation=relu, solver=adam, hidden_layer_sizes=(100, 50), score=0.464673610799, total=   1.2s\n",
            "[CV] alpha=0.0005, activation=relu, solver=lbfgs, hidden_layer_sizes=200 \n",
            "[CV]  alpha=0.0005, activation=relu, solver=lbfgs, hidden_layer_sizes=200, score=0.137190495077, total=   1.1s\n",
            "[CV] alpha=0.0005, activation=relu, solver=lbfgs, hidden_layer_sizes=200 \n",
            "[CV]  alpha=0.0005, activation=relu, solver=lbfgs, hidden_layer_sizes=200, score=0.00999882926022, total=   1.1s\n",
            "[CV] alpha=0.0005, activation=relu, solver=lbfgs, hidden_layer_sizes=200 \n",
            "[CV]  alpha=0.0005, activation=relu, solver=lbfgs, hidden_layer_sizes=200, score=0.169622579051, total=   1.1s\n",
            "[CV] alpha=0.0005, activation=relu, solver=sgd, hidden_layer_sizes=200 \n",
            "[CV]  alpha=0.0005, activation=relu, solver=sgd, hidden_layer_sizes=200, score=0.507696602779, total=   1.2s\n",
            "[CV] alpha=0.0005, activation=relu, solver=sgd, hidden_layer_sizes=200 \n",
            "[CV]  alpha=0.0005, activation=relu, solver=sgd, hidden_layer_sizes=200, score=0.539920393007, total=   1.3s\n",
            "[CV] alpha=0.0005, activation=relu, solver=sgd, hidden_layer_sizes=200 \n",
            "[CV]  alpha=0.0005, activation=relu, solver=sgd, hidden_layer_sizes=200, score=0.477337435696, total=   1.3s\n",
            "[CV] alpha=0.0005, activation=relu, solver=adam, hidden_layer_sizes=200 \n",
            "[CV]  alpha=0.0005, activation=relu, solver=adam, hidden_layer_sizes=200, score=0.46753396726, total=   1.3s\n",
            "[CV] alpha=0.0005, activation=relu, solver=adam, hidden_layer_sizes=200 \n",
            "[CV]  alpha=0.0005, activation=relu, solver=adam, hidden_layer_sizes=200, score=0.504040772467, total=   1.3s\n",
            "[CV] alpha=0.0005, activation=relu, solver=adam, hidden_layer_sizes=200 \n",
            "[CV]  alpha=0.0005, activation=relu, solver=adam, hidden_layer_sizes=200, score=0.466355991439, total=   1.3s\n"
          ],
          "name": "stdout"
        },
        {
          "output_type": "stream",
          "text": [
            "[Parallel(n_jobs=1)]: Done 288 out of 288 | elapsed:  6.7min finished\n"
          ],
          "name": "stderr"
        },
        {
          "output_type": "stream",
          "text": [
            "GridSearchCV(cv='warn', error_score='raise-deprecating',\n",
            "       estimator=MLPRegressor(activation='relu', alpha=0.0001, batch_size='auto', beta_1=0.9,\n",
            "       beta_2=0.999, early_stopping=False, epsilon=1e-08,\n",
            "       hidden_layer_sizes=(100,), learning_rate='constant',\n",
            "       learning_rate_init=0.001, max_iter=200, momentum=0.9,\n",
            "       n_iter_no_change=10, nesterovs_momentum=True, power_t=0.5,\n",
            "       random_state=None, shuffle=True, solver='adam', tol=0.0001,\n",
            "       validation_fraction=0.1, verbose=False, warm_start=False),\n",
            "       fit_params=None, iid='warn', n_jobs=None,\n",
            "       param_grid={'alpha': [5e-05, 0.0005], 'activation': ['identity', 'logistic', 'tanh', 'relu'], 'solver': ['lbfgs', 'sgd', 'adam'], 'hidden_layer_sizes': [150, (150, 50), (100, 50), 200]},\n",
            "       pre_dispatch='2*n_jobs', refit=True, return_train_score='warn',\n",
            "       scoring=None, verbose=3)\n"
          ],
          "name": "stdout"
        }
      ]
    },
    {
      "cell_type": "code",
      "metadata": {
        "id": "htuDYwTHU5Cj",
        "colab_type": "code",
        "colab": {
          "base_uri": "https://localhost:8080/",
          "height": 34
        },
        "outputId": "9c95602b-eab7-4a3b-c94a-b5e946b0e8ca"
      },
      "source": [
        "# print best parameter after tuning \n",
        "print(grid.best_params_) "
      ],
      "execution_count": 192,
      "outputs": [
        {
          "output_type": "stream",
          "text": [
            "{'alpha': 5e-05, 'activation': 'relu', 'solver': 'sgd', 'hidden_layer_sizes': 200}\n"
          ],
          "name": "stdout"
        }
      ]
    },
    {
      "cell_type": "code",
      "metadata": {
        "id": "VdN45i0qVkbW",
        "colab_type": "code",
        "colab": {
          "base_uri": "https://localhost:8080/",
          "height": 136
        },
        "outputId": "78f277ea-34c4-435a-91fe-51544323c8fa"
      },
      "source": [
        "# print how our model looks after hyper-parameter tuning \n",
        "print(grid.best_estimator_) "
      ],
      "execution_count": 193,
      "outputs": [
        {
          "output_type": "stream",
          "text": [
            "MLPRegressor(activation='relu', alpha=5e-05, batch_size='auto', beta_1=0.9,\n",
            "       beta_2=0.999, early_stopping=False, epsilon=1e-08,\n",
            "       hidden_layer_sizes=200, learning_rate='constant',\n",
            "       learning_rate_init=0.001, max_iter=200, momentum=0.9,\n",
            "       n_iter_no_change=10, nesterovs_momentum=True, power_t=0.5,\n",
            "       random_state=None, shuffle=True, solver='sgd', tol=0.0001,\n",
            "       validation_fraction=0.1, verbose=False, warm_start=False)\n"
          ],
          "name": "stdout"
        }
      ]
    },
    {
      "cell_type": "code",
      "metadata": {
        "id": "K3S4pvEAVqa4",
        "colab_type": "code",
        "colab": {}
      },
      "source": [
        "grid_predictions = grid.predict(X_test) "
      ],
      "execution_count": 0,
      "outputs": []
    },
    {
      "cell_type": "markdown",
      "metadata": {
        "id": "J0beCYorVxHQ",
        "colab_type": "text"
      },
      "source": [
        "Checking metrics after tuning"
      ]
    },
    {
      "cell_type": "code",
      "metadata": {
        "id": "I_hbF8k_VucT",
        "colab_type": "code",
        "colab": {
          "base_uri": "https://localhost:8080/",
          "height": 51
        },
        "outputId": "b32298fa-6a0b-4778-8a22-6a1d1bd489c1"
      },
      "source": [
        "print(\"MSE:\")\n",
        "print(mean_squared_error(y_test,grid_predictions))"
      ],
      "execution_count": 195,
      "outputs": [
        {
          "output_type": "stream",
          "text": [
            "MSE:\n",
            "129.6882279675205\n"
          ],
          "name": "stdout"
        }
      ]
    },
    {
      "cell_type": "code",
      "metadata": {
        "id": "vBHCe7n9V2Cz",
        "colab_type": "code",
        "colab": {
          "base_uri": "https://localhost:8080/",
          "height": 51
        },
        "outputId": "d5b0946f-1f45-4128-d539-578bb9087451"
      },
      "source": [
        "print(\"R squared:\")\n",
        "print(r2_score(y_test,grid_predictions))"
      ],
      "execution_count": 196,
      "outputs": [
        {
          "output_type": "stream",
          "text": [
            "R squared:\n",
            "0.5549438442568009\n"
          ],
          "name": "stdout"
        }
      ]
    },
    {
      "cell_type": "code",
      "metadata": {
        "id": "dD-1FcJ0V5YT",
        "colab_type": "code",
        "colab": {
          "base_uri": "https://localhost:8080/",
          "height": 51
        },
        "outputId": "ff9214ce-9b57-416e-c6ea-bf3e5f70152a"
      },
      "source": [
        "print(\"MAE:\")\n",
        "print(mean_absolute_error(y_test,grid_predictions))"
      ],
      "execution_count": 197,
      "outputs": [
        {
          "output_type": "stream",
          "text": [
            "MAE:\n",
            "8.960813338142088\n"
          ],
          "name": "stdout"
        }
      ]
    },
    {
      "cell_type": "markdown",
      "metadata": {
        "id": "TGig2EpxWB90",
        "colab_type": "text"
      },
      "source": [
        "We can see that the MAE is now much lower at 8.96"
      ]
    },
    {
      "cell_type": "markdown",
      "metadata": {
        "id": "4XN5tuJOjtpK",
        "colab_type": "text"
      },
      "source": [
        "Now, checking the predicitons on the competition dataset"
      ]
    },
    {
      "cell_type": "code",
      "metadata": {
        "id": "M0DimJ0Ljs8N",
        "colab_type": "code",
        "colab": {}
      },
      "source": [
        "comp_test = pd.read_csv('dengue_features_test.csv')"
      ],
      "execution_count": 0,
      "outputs": []
    },
    {
      "cell_type": "markdown",
      "metadata": {
        "id": "2i097h4ukGEF",
        "colab_type": "text"
      },
      "source": [
        "Preprocessing the data like before"
      ]
    },
    {
      "cell_type": "code",
      "metadata": {
        "id": "Raj-jHKZkNyh",
        "colab_type": "code",
        "colab": {
          "base_uri": "https://localhost:8080/",
          "height": 187
        },
        "outputId": "b1392931-ad6e-4d31-aadd-5f3dbc7639f9"
      },
      "source": [
        "#Renaming columns to abbreviate & changing category\n",
        "comp_test.columns = comp_test.columns.str.replace(\"station\", \"stn\")\n",
        "comp_test.columns = comp_test.columns.str.replace(\"reanalysis\", \"re_an\")\n",
        "comp_test.columns = comp_test.columns.str.replace(\"humidity\", \"hd\")\n",
        "comp_test.columns = comp_test.columns.str.replace(\"precipitation\", \"prec\")\n",
        "print(comp_test.columns)\n",
        "type(comp_test.columns)\n",
        "comp_test.year = comp_test.year.astype('category')\n",
        "comp_test.year.dtype"
      ],
      "execution_count": 148,
      "outputs": [
        {
          "output_type": "stream",
          "text": [
            "Index([u'city', u'year', u'weekofyear', u'week_start_date', u'ndvi_ne',\n",
            "       u'ndvi_nw', u'ndvi_se', u'ndvi_sw', u'prec_amt_mm', u're_an_air_temp_k',\n",
            "       u're_an_avg_temp_k', u're_an_dew_point_temp_k', u're_an_max_air_temp_k',\n",
            "       u're_an_min_air_temp_k', u're_an_precip_amt_kg_per_m2',\n",
            "       u're_an_relative_hd_percent', u're_an_sat_precip_amt_mm',\n",
            "       u're_an_specific_hd_g_per_kg', u're_an_tdtr_k', u'stn_avg_temp_c',\n",
            "       u'stn_diur_temp_rng_c', u'stn_max_temp_c', u'stn_min_temp_c',\n",
            "       u'stn_precip_mm'],\n",
            "      dtype='object')\n"
          ],
          "name": "stdout"
        },
        {
          "output_type": "execute_result",
          "data": {
            "text/plain": [
              "CategoricalDtype(categories=[2008, 2009, 2010, 2011, 2012, 2013], ordered=False)"
            ]
          },
          "metadata": {
            "tags": []
          },
          "execution_count": 148
        }
      ]
    },
    {
      "cell_type": "code",
      "metadata": {
        "id": "UK0xQu7Qj-v0",
        "colab_type": "code",
        "colab": {}
      },
      "source": [
        "comp_test = comp_test.drop(['re_an_sat_precip_amt_mm'], axis=1)"
      ],
      "execution_count": 0,
      "outputs": []
    },
    {
      "cell_type": "code",
      "metadata": {
        "id": "qJqtVip_kxkz",
        "colab_type": "code",
        "colab": {}
      },
      "source": [
        "comp_test.loc[comp_test.ndvi_ne <= 0.25, 'ndvi_ne'] = 0\n",
        "comp_test.loc[comp_test.ndvi_ne > 0.25, 'ndvi_ne'] = 1"
      ],
      "execution_count": 0,
      "outputs": []
    },
    {
      "cell_type": "code",
      "metadata": {
        "id": "HaGTXGJ_k1VQ",
        "colab_type": "code",
        "colab": {}
      },
      "source": [
        "comp_test.loc[comp_test.ndvi_nw <= 0.25, 'ndvi_nw'] = 0\n",
        "comp_test.loc[comp_test.ndvi_nw > 0.25, 'ndvi_nw'] = 1"
      ],
      "execution_count": 0,
      "outputs": []
    },
    {
      "cell_type": "code",
      "metadata": {
        "id": "jWVrSpT3lE7b",
        "colab_type": "code",
        "colab": {}
      },
      "source": [
        "comp_test.loc[comp_test.ndvi_se <= 0.25, 'ndvi_se'] = 0\n",
        "comp_test.loc[comp_test.ndvi_se > 0.25, 'ndvi_se'] = 1"
      ],
      "execution_count": 0,
      "outputs": []
    },
    {
      "cell_type": "code",
      "metadata": {
        "id": "uG7m4p0MlNPk",
        "colab_type": "code",
        "colab": {}
      },
      "source": [
        "comp_test.loc[comp_test.ndvi_sw <= 0.25, 'ndvi_sw'] = 0\n",
        "comp_test.loc[comp_test.ndvi_sw > 0.25, 'ndvi_sw'] = 1"
      ],
      "execution_count": 0,
      "outputs": []
    },
    {
      "cell_type": "code",
      "metadata": {
        "id": "1wBIufeJlSMs",
        "colab_type": "code",
        "colab": {}
      },
      "source": [
        "#Converting year to category\n",
        "comp_test.year = comp_test.year.astype('object')"
      ],
      "execution_count": 0,
      "outputs": []
    },
    {
      "cell_type": "code",
      "metadata": {
        "id": "zccU7QpelY3b",
        "colab_type": "code",
        "colab": {}
      },
      "source": [
        "# Categorical boolean mask\n",
        "categorical_feature_mask = comp_test.dtypes==object\n",
        "# filter categorical columns using mask and turn it into a list\n",
        "categorical_cols = comp_test.columns[categorical_feature_mask].tolist()"
      ],
      "execution_count": 0,
      "outputs": []
    },
    {
      "cell_type": "code",
      "metadata": {
        "id": "tohkCCeQlZVY",
        "colab_type": "code",
        "colab": {}
      },
      "source": [
        "# import labelencoder\n",
        "from sklearn.preprocessing import LabelEncoder\n",
        "# instantiate labelencoder object\n",
        "le = LabelEncoder()"
      ],
      "execution_count": 0,
      "outputs": []
    },
    {
      "cell_type": "code",
      "metadata": {
        "id": "f3Xg_wlylZ3U",
        "colab_type": "code",
        "colab": {}
      },
      "source": [
        "# apply le on categorical feature columns\n",
        "comp_test[categorical_cols] = comp_test[categorical_cols].apply(lambda col: le.fit_transform(col))"
      ],
      "execution_count": 0,
      "outputs": []
    },
    {
      "cell_type": "code",
      "metadata": {
        "id": "3I4UaaX4laXN",
        "colab_type": "code",
        "colab": {}
      },
      "source": [
        "#Standardizing Numerical features\n",
        "from sklearn.preprocessing import StandardScaler\n",
        "scaler = StandardScaler()"
      ],
      "execution_count": 0,
      "outputs": []
    },
    {
      "cell_type": "code",
      "metadata": {
        "id": "rT-2Igfhl4Vj",
        "colab_type": "code",
        "colab": {}
      },
      "source": [
        "comp_test = scaler.fit_transform(comp_test)"
      ],
      "execution_count": 0,
      "outputs": []
    },
    {
      "cell_type": "code",
      "metadata": {
        "id": "sqE2nu2sl89l",
        "colab_type": "code",
        "colab": {}
      },
      "source": [
        "comp_test = pd.DataFrame(comp_test)"
      ],
      "execution_count": 0,
      "outputs": []
    },
    {
      "cell_type": "code",
      "metadata": {
        "id": "8UySs0B2l9RJ",
        "colab_type": "code",
        "colab": {}
      },
      "source": [
        "comp_test = imputer.fit_transform(comp_test)"
      ],
      "execution_count": 0,
      "outputs": []
    },
    {
      "cell_type": "code",
      "metadata": {
        "id": "VV5lLKTzmJWc",
        "colab_type": "code",
        "colab": {}
      },
      "source": [
        "comp_test = pd.DataFrame(comp_test)"
      ],
      "execution_count": 0,
      "outputs": []
    },
    {
      "cell_type": "code",
      "metadata": {
        "id": "MCDShYVXmKgf",
        "colab_type": "code",
        "colab": {}
      },
      "source": [
        "comp_test.columns = ['city',\n",
        " 'year',\n",
        " 'weekofyear',\n",
        " 'week_start_date',\n",
        " 'ndvi_ne',\n",
        " 'ndvi_nw',\n",
        " 'ndvi_se',\n",
        " 'ndvi_sw',\n",
        " 'prec_amt_mm',\n",
        " 're_an_air_temp_k',\n",
        " 're_an_avg_temp_k',\n",
        " 're_an_dew_point_temp_k',\n",
        " 're_an_max_air_temp_k',\n",
        " 're_an_min_air_temp_k',\n",
        " 're_an_precip_amt_kg_per_m2',\n",
        " 're_an_relative_hd_percent',\n",
        " 're_an_specific_hd_g_per_kg',\n",
        " 're_an_tdtr_k',\n",
        " 'stn_avg_temp_c',\n",
        " 'stn_diur_temp_rng_c',\n",
        " 'stn_max_temp_c',\n",
        " 'stn_min_temp_c',\n",
        " 'stn_precip_mm']"
      ],
      "execution_count": 0,
      "outputs": []
    },
    {
      "cell_type": "code",
      "metadata": {
        "id": "2bhj5aZUmZC6",
        "colab_type": "code",
        "colab": {}
      },
      "source": [
        "pred_comp = grid.predict(comp_test)"
      ],
      "execution_count": 0,
      "outputs": []
    },
    {
      "cell_type": "code",
      "metadata": {
        "id": "Oz6x09zTnrL2",
        "colab_type": "code",
        "colab": {}
      },
      "source": [
        "pred_comp = pd.DataFrame(pred_comp)"
      ],
      "execution_count": 0,
      "outputs": []
    },
    {
      "cell_type": "code",
      "metadata": {
        "id": "iEiga3YQo2VG",
        "colab_type": "code",
        "colab": {}
      },
      "source": [
        "pred_comp.columns = ['total_cases']"
      ],
      "execution_count": 0,
      "outputs": []
    },
    {
      "cell_type": "code",
      "metadata": {
        "id": "GpnPdGN8ox83",
        "colab_type": "code",
        "colab": {}
      },
      "source": [
        "# Now we will convert total cases into 'int64' type. \n",
        "pred_comp.total_cases = pred_comp.total_cases.astype('int64') "
      ],
      "execution_count": 0,
      "outputs": []
    },
    {
      "cell_type": "code",
      "metadata": {
        "id": "P7s5tUl0n7sS",
        "colab_type": "code",
        "colab": {
          "base_uri": "https://localhost:8080/",
          "height": 122
        },
        "outputId": "e1e14e7d-0b4f-4b52-837a-6f8b802f442a"
      },
      "source": [
        "from google.colab import drive\n",
        "drive.mount('/content/drive')"
      ],
      "execution_count": 92,
      "outputs": [
        {
          "output_type": "stream",
          "text": [
            "Go to this URL in a browser: https://accounts.google.com/o/oauth2/auth?client_id=947318989803-6bn6qk8qdgf4n4g3pfee6491hc0brc4i.apps.googleusercontent.com&redirect_uri=urn%3aietf%3awg%3aoauth%3a2.0%3aoob&response_type=code&scope=email%20https%3a%2f%2fwww.googleapis.com%2fauth%2fdocs.test%20https%3a%2f%2fwww.googleapis.com%2fauth%2fdrive%20https%3a%2f%2fwww.googleapis.com%2fauth%2fdrive.photos.readonly%20https%3a%2f%2fwww.googleapis.com%2fauth%2fpeopleapi.readonly\n",
            "\n",
            "Enter your authorization code:\n",
            "··········\n",
            "Mounted at /content/drive\n"
          ],
          "name": "stdout"
        }
      ]
    },
    {
      "cell_type": "code",
      "metadata": {
        "id": "n4I4llV7oEzo",
        "colab_type": "code",
        "colab": {}
      },
      "source": [
        "#Converting the final df to submit to csv\n",
        "pred_comp.to_csv (r'/content/drive/My Drive/deng_sub_mlp', index = False, header=True)"
      ],
      "execution_count": 0,
      "outputs": []
    },
    {
      "cell_type": "markdown",
      "metadata": {
        "id": "qXVDpR04ppzG",
        "colab_type": "text"
      },
      "source": [
        "After submitting the csv, I got a MAE of 27.05 there, which is better than the previous scores"
      ]
    },
    {
      "cell_type": "markdown",
      "metadata": {
        "id": "0J4ohByRWWbn",
        "colab_type": "text"
      },
      "source": [
        "Add a new column called 'above_average' with value 1 or 0. 1 if the total_cases > median of total_cases"
      ]
    },
    {
      "cell_type": "code",
      "metadata": {
        "id": "Ibfq1TvJV8KF",
        "colab_type": "code",
        "colab": {
          "base_uri": "https://localhost:8080/",
          "height": 34
        },
        "outputId": "8c0f37a1-508b-4cb5-825c-e84820b88ae5"
      },
      "source": [
        "#Taking median of total cases column\n",
        "med_total_cases = np.median(df_total_cases)\n",
        "print(\"Median of Total Cases: \", med_total_cases)"
      ],
      "execution_count": 50,
      "outputs": [
        {
          "output_type": "stream",
          "text": [
            "('Median of Total Cases: ', 12.0)\n"
          ],
          "name": "stdout"
        }
      ]
    },
    {
      "cell_type": "code",
      "metadata": {
        "id": "f_nETs50WhYf",
        "colab_type": "code",
        "colab": {}
      },
      "source": [
        "above_average = [] \n",
        "for value in df_total_cases: \n",
        "    if value >= med_total_cases: \n",
        "        above_average.append(1) \n",
        "    else: \n",
        "        above_average.append(0) \n",
        "       \n",
        "df[\"above_average\"] = above_average"
      ],
      "execution_count": 0,
      "outputs": []
    },
    {
      "cell_type": "code",
      "metadata": {
        "id": "JIXHjvUbYun2",
        "colab_type": "code",
        "colab": {}
      },
      "source": [
        "df[\"above_average\"].columns = ['above_average']"
      ],
      "execution_count": 0,
      "outputs": []
    },
    {
      "cell_type": "code",
      "metadata": {
        "id": "pnRLQtH6am57",
        "colab_type": "code",
        "colab": {}
      },
      "source": [
        "y = df['above_average']"
      ],
      "execution_count": 0,
      "outputs": []
    },
    {
      "cell_type": "markdown",
      "metadata": {
        "id": "8-CIUNIeZUCS",
        "colab_type": "text"
      },
      "source": [
        "Build a Neural Network MLP Classifier on the 'above_average' column with 80/20 train/test split"
      ]
    },
    {
      "cell_type": "code",
      "metadata": {
        "id": "Co75G-aKZN1l",
        "colab_type": "code",
        "colab": {}
      },
      "source": [
        "#Splitting the data frame\n",
        "X_train, X_test, y_train, y_test = train_test_split(df_merge,y,test_size=0.20,stratify=y,shuffle=True)"
      ],
      "execution_count": 0,
      "outputs": []
    },
    {
      "cell_type": "code",
      "metadata": {
        "id": "6DkIcxyVa1Nk",
        "colab_type": "code",
        "colab": {}
      },
      "source": [
        "from sklearn.neural_network import MLPClassifier\n",
        "clf = MLPClassifier(hidden_layer_sizes=(100, ), activation='relu', solver='adam', alpha=0.0001, batch_size='auto', learning_rate='constant', learning_rate_init=0.001, power_t=0.5, max_iter=200, shuffle=True, random_state=None, tol=0.0001, verbose=False, warm_start=False, momentum=0.9, nesterovs_momentum=True, early_stopping=False, validation_fraction=0.1, beta_1=0.9, beta_2=0.999, epsilon=1e-08, n_iter_no_change=10)"
      ],
      "execution_count": 0,
      "outputs": []
    },
    {
      "cell_type": "code",
      "metadata": {
        "id": "acZkIYlzcTbc",
        "colab_type": "code",
        "colab": {
          "base_uri": "https://localhost:8080/",
          "height": 136
        },
        "outputId": "2839b32f-5126-4552-a998-2ec88f794475"
      },
      "source": [
        "#Fitting the MLP Clf model \n",
        "clf.fit(X_train,y_train)"
      ],
      "execution_count": 60,
      "outputs": [
        {
          "output_type": "execute_result",
          "data": {
            "text/plain": [
              "MLPClassifier(activation='relu', alpha=0.0001, batch_size='auto', beta_1=0.9,\n",
              "       beta_2=0.999, early_stopping=False, epsilon=1e-08,\n",
              "       hidden_layer_sizes=(100,), learning_rate='constant',\n",
              "       learning_rate_init=0.001, max_iter=200, momentum=0.9,\n",
              "       n_iter_no_change=10, nesterovs_momentum=True, power_t=0.5,\n",
              "       random_state=None, shuffle=True, solver='adam', tol=0.0001,\n",
              "       validation_fraction=0.1, verbose=False, warm_start=False)"
            ]
          },
          "metadata": {
            "tags": []
          },
          "execution_count": 60
        }
      ]
    },
    {
      "cell_type": "code",
      "metadata": {
        "id": "wklWjHxvcmVo",
        "colab_type": "code",
        "colab": {}
      },
      "source": [
        "pred_clf = clf.predict(X_test)"
      ],
      "execution_count": 0,
      "outputs": []
    },
    {
      "cell_type": "code",
      "metadata": {
        "id": "Ez-N6lFVcuq7",
        "colab_type": "code",
        "colab": {
          "base_uri": "https://localhost:8080/",
          "height": 51
        },
        "outputId": "146cae93-5ea0-435a-9b5e-95871e02647a"
      },
      "source": [
        "from sklearn.metrics import precision_score\n",
        "print('Precision Score:')\n",
        "precision_score(y_test, pred_clf, labels=None, pos_label=1, average='binary', sample_weight=None)"
      ],
      "execution_count": 102,
      "outputs": [
        {
          "output_type": "stream",
          "text": [
            "Precision Score:\n"
          ],
          "name": "stdout"
        },
        {
          "output_type": "execute_result",
          "data": {
            "text/plain": [
              "0.7756410256410257"
            ]
          },
          "metadata": {
            "tags": []
          },
          "execution_count": 102
        }
      ]
    },
    {
      "cell_type": "code",
      "metadata": {
        "id": "xedo_enOd06I",
        "colab_type": "code",
        "colab": {
          "base_uri": "https://localhost:8080/",
          "height": 54
        },
        "outputId": "d8754204-f5a5-4954-f49a-10f433691624"
      },
      "source": [
        "from sklearn.metrics import classification_report\n",
        "classification_report(y_test, pred_clf, labels=None, target_names=None, sample_weight=None, digits=2, output_dict=False)"
      ],
      "execution_count": 99,
      "outputs": [
        {
          "output_type": "execute_result",
          "data": {
            "text/plain": [
              "u'              precision    recall  f1-score   support\\n\\n           0       0.80      0.76      0.78       144\\n           1       0.78      0.82      0.80       148\\n\\n   micro avg       0.79      0.79      0.79       292\\n   macro avg       0.79      0.79      0.79       292\\nweighted avg       0.79      0.79      0.79       292\\n'"
            ]
          },
          "metadata": {
            "tags": []
          },
          "execution_count": 99
        }
      ]
    },
    {
      "cell_type": "code",
      "metadata": {
        "id": "RHg3ycBSfZ-6",
        "colab_type": "code",
        "colab": {
          "base_uri": "https://localhost:8080/",
          "height": 51
        },
        "outputId": "468b2888-cb86-4922-8cce-d5fe58a7ec15"
      },
      "source": [
        "from sklearn.metrics import recall_score\n",
        "print('Recall Score:')\n",
        "recall_score(y_test, pred_clf, labels=None, pos_label=1, average='binary', sample_weight=None)"
      ],
      "execution_count": 103,
      "outputs": [
        {
          "output_type": "stream",
          "text": [
            "Recall Score:\n"
          ],
          "name": "stdout"
        },
        {
          "output_type": "execute_result",
          "data": {
            "text/plain": [
              "0.8175675675675675"
            ]
          },
          "metadata": {
            "tags": []
          },
          "execution_count": 103
        }
      ]
    },
    {
      "cell_type": "code",
      "metadata": {
        "id": "B-1r423c8pxM",
        "colab_type": "code",
        "colab": {
          "base_uri": "https://localhost:8080/",
          "height": 51
        },
        "outputId": "d9ff175e-66c5-4224-a586-052a37021d37"
      },
      "source": [
        "from sklearn.metrics import f1_score\n",
        "print('F1 Score:')\n",
        "f1_score(y_test, pred_clf, labels=None, pos_label=1, average='binary', sample_weight=None)"
      ],
      "execution_count": 104,
      "outputs": [
        {
          "output_type": "stream",
          "text": [
            "F1 Score:\n"
          ],
          "name": "stdout"
        },
        {
          "output_type": "execute_result",
          "data": {
            "text/plain": [
              "0.7960526315789475"
            ]
          },
          "metadata": {
            "tags": []
          },
          "execution_count": 104
        }
      ]
    },
    {
      "cell_type": "markdown",
      "metadata": {
        "id": "P5py4oPvkGDg",
        "colab_type": "text"
      },
      "source": [
        "Recall Score: 0.81\n",
        "F1 Score: 0.79\n",
        "Precision Score: 0.77"
      ]
    },
    {
      "cell_type": "markdown",
      "metadata": {
        "id": "EXiFLeSf9MT6",
        "colab_type": "text"
      },
      "source": [
        "Precision is a measure of how many positives are actually classified as positive.\n",
        "Recall actually calculates how many of the Actual Positives our model capture through labeling it as Positive.\n",
        "F1 Score is the weighted average of precision and recall."
      ]
    },
    {
      "cell_type": "markdown",
      "metadata": {
        "id": "x5m6iNF_AOvq",
        "colab_type": "text"
      },
      "source": [
        "F1 Score, Precision & Recall are better measures because in case of a skewed dataset, if we only consider accuracy we do not get a clear image about the Falsely classified values."
      ]
    },
    {
      "cell_type": "code",
      "metadata": {
        "id": "ti-b06yd82LW",
        "colab_type": "code",
        "colab": {}
      },
      "source": [
        ""
      ],
      "execution_count": 0,
      "outputs": []
    }
  ]
}